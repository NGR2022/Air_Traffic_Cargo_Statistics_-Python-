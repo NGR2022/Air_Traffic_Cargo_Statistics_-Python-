{
 "cells": [
  {
   "cell_type": "markdown",
   "metadata": {},
   "source": [
    "**Content** <a id=\"content\"></a>\n",
    "\n",
    "<br>[**Libraries importing**](#labs)\n",
    "<br>[**Dataset download**](#Download)\n",
    "<br>[**Descriptions of the Dataset**](#Description)\n",
    "<br>[**Analysis:**](#Analysis)\n",
    " - [Adjustment of datatypes and looking for additional information included in data](#Start)\n",
    " - [Cargo weights distribution between years for General Dataset](#CargoWeights)\n",
    "  -  [Cargo weights distribution between years for General Dataset](#CargoWeights)\n",
    "  -  [Let's consider seasonality excistence and take for this the 2-years period: 2019 and 2020](#seasonality)\n",
    "  -  [What about airlines qty - was there a negative impact on Qty of airlines](#AirlineQty)\n",
    " - [Cargo weights distribution between years for Freighter aircraft type slice](#Freightersweight)\n",
    " - [Cargo weights distribution between years for Passenger aircraft type slice](#Passengersboardw)\n",
    " - [Cargo transportation in regard to routes: Domestic vs International](#Routes)\n",
    "  - [Cargo Weight as indicator](#WeihgtsInd)\n",
    "  - [Flights Qty as indicator](#FlightsInd)\n",
    "  - [Mean of Weight per flight as indicator](#MeanIndicator)\n",
    " - [Qty of operating airlines from year to year](#ALQty)\n",
    " - [How Cargo types ratio changed throught years](#cargotypes)\n",
    " - [Geo Regions and cargo weights](#GeoRegions)\n",
    " - [Import vs Export](#ImpExp)\n",
    " \n",
    "<br>[**Summary**](#Sumup)\n",
    "\n",
    "\n",
    "---"
   ]
  },
  {
   "cell_type": "markdown",
   "metadata": {},
   "source": [
    "### **Libraries importing** <a id=\"labs\"></a>"
   ]
  },
  {
   "cell_type": "code",
   "execution_count": 1,
   "metadata": {},
   "outputs": [],
   "source": [
    "import pandas as pd\n",
    "import matplotlib.pyplot as plt\n",
    "import warnings\n",
    "import seaborn as sns\n",
    "from operator import attrgetter\n",
    "import matplotlib.colors as mcolors\n",
    "import numpy as np\n",
    "import re"
   ]
  },
  {
   "cell_type": "markdown",
   "metadata": {},
   "source": [
    "### **Dataset download** <a id=\"Download\"></a>"
   ]
  },
  {
   "cell_type": "code",
   "execution_count": 2,
   "metadata": {},
   "outputs": [],
   "source": [
    "data = pd.read_csv('~/Air_Traffic_Cargo_Statistics.csv')"
   ]
  },
  {
   "cell_type": "markdown",
   "metadata": {},
   "source": [
    "### **Description of the Dataset** <a id=\"Description\"></a>"
   ]
  },
  {
   "cell_type": "code",
   "execution_count": 4,
   "metadata": {},
   "outputs": [
    {
     "name": "stdout",
     "output_type": "stream",
     "text": [
      "<class 'pandas.core.frame.DataFrame'>\n",
      "RangeIndex: 34037 entries, 0 to 34036\n",
      "Data columns (total 12 columns):\n",
      " #   Column                  Non-Null Count  Dtype  \n",
      "---  ------                  --------------  -----  \n",
      " 0   activity_period         34037 non-null  int64  \n",
      " 1   operating_airline       34037 non-null  object \n",
      " 2   operating_airline_iata  33992 non-null  object \n",
      " 3   published_airline       34037 non-null  object \n",
      " 4   published_airline_iata  33992 non-null  object \n",
      " 5   geo_summary             34037 non-null  object \n",
      " 6   geo_region              34037 non-null  object \n",
      " 7   activity_type           34037 non-null  object \n",
      " 8   cargo_type              34037 non-null  object \n",
      " 9   cargo_aircraft_type     34037 non-null  object \n",
      " 10  cargo_weight_lbs        34037 non-null  int64  \n",
      " 11  cargo_metric_tons       34037 non-null  float64\n",
      "dtypes: float64(1), int64(2), object(9)\n",
      "memory usage: 3.1+ MB\n"
     ]
    }
   ],
   "source": [
    "data.info()"
   ]
  },
  {
   "cell_type": "code",
   "execution_count": 5,
   "metadata": {},
   "outputs": [
    {
     "data": {
      "text/html": [
       "<div>\n",
       "<style scoped>\n",
       "    .dataframe tbody tr th:only-of-type {\n",
       "        vertical-align: middle;\n",
       "    }\n",
       "\n",
       "    .dataframe tbody tr th {\n",
       "        vertical-align: top;\n",
       "    }\n",
       "\n",
       "    .dataframe thead th {\n",
       "        text-align: right;\n",
       "    }\n",
       "</style>\n",
       "<table border=\"1\" class=\"dataframe\">\n",
       "  <thead>\n",
       "    <tr style=\"text-align: right;\">\n",
       "      <th></th>\n",
       "      <th>activity_period</th>\n",
       "      <th>cargo_weight_lbs</th>\n",
       "      <th>cargo_metric_tons</th>\n",
       "    </tr>\n",
       "  </thead>\n",
       "  <tbody>\n",
       "    <tr>\n",
       "      <th>count</th>\n",
       "      <td>34037.000000</td>\n",
       "      <td>3.403700e+04</td>\n",
       "      <td>34037.000000</td>\n",
       "    </tr>\n",
       "    <tr>\n",
       "      <th>mean</th>\n",
       "      <td>201274.946529</td>\n",
       "      <td>4.773309e+05</td>\n",
       "      <td>216.517292</td>\n",
       "    </tr>\n",
       "    <tr>\n",
       "      <th>std</th>\n",
       "      <td>451.925014</td>\n",
       "      <td>9.484717e+05</td>\n",
       "      <td>430.226777</td>\n",
       "    </tr>\n",
       "    <tr>\n",
       "      <th>min</th>\n",
       "      <td>200507.000000</td>\n",
       "      <td>1.000000e+00</td>\n",
       "      <td>0.000454</td>\n",
       "    </tr>\n",
       "    <tr>\n",
       "      <th>25%</th>\n",
       "      <td>200903.000000</td>\n",
       "      <td>1.870200e+04</td>\n",
       "      <td>8.483227</td>\n",
       "    </tr>\n",
       "    <tr>\n",
       "      <th>50%</th>\n",
       "      <td>201302.000000</td>\n",
       "      <td>1.331840e+05</td>\n",
       "      <td>60.412262</td>\n",
       "    </tr>\n",
       "    <tr>\n",
       "      <th>75%</th>\n",
       "      <td>201703.000000</td>\n",
       "      <td>5.469500e+05</td>\n",
       "      <td>248.096520</td>\n",
       "    </tr>\n",
       "    <tr>\n",
       "      <th>max</th>\n",
       "      <td>202012.000000</td>\n",
       "      <td>2.381234e+07</td>\n",
       "      <td>10801.278330</td>\n",
       "    </tr>\n",
       "  </tbody>\n",
       "</table>\n",
       "</div>"
      ],
      "text/plain": [
       "       activity_period  cargo_weight_lbs  cargo_metric_tons\n",
       "count     34037.000000      3.403700e+04       34037.000000\n",
       "mean     201274.946529      4.773309e+05         216.517292\n",
       "std         451.925014      9.484717e+05         430.226777\n",
       "min      200507.000000      1.000000e+00           0.000454\n",
       "25%      200903.000000      1.870200e+04           8.483227\n",
       "50%      201302.000000      1.331840e+05          60.412262\n",
       "75%      201703.000000      5.469500e+05         248.096520\n",
       "max      202012.000000      2.381234e+07       10801.278330"
      ]
     },
     "execution_count": 5,
     "metadata": {},
     "output_type": "execute_result"
    }
   ],
   "source": [
    "data.describe()"
   ]
  },
  {
   "cell_type": "code",
   "execution_count": 6,
   "metadata": {},
   "outputs": [
    {
     "data": {
      "text/html": [
       "<div>\n",
       "<style scoped>\n",
       "    .dataframe tbody tr th:only-of-type {\n",
       "        vertical-align: middle;\n",
       "    }\n",
       "\n",
       "    .dataframe tbody tr th {\n",
       "        vertical-align: top;\n",
       "    }\n",
       "\n",
       "    .dataframe thead th {\n",
       "        text-align: right;\n",
       "    }\n",
       "</style>\n",
       "<table border=\"1\" class=\"dataframe\">\n",
       "  <thead>\n",
       "    <tr style=\"text-align: right;\">\n",
       "      <th></th>\n",
       "      <th>activity_period</th>\n",
       "      <th>operating_airline</th>\n",
       "      <th>operating_airline_iata</th>\n",
       "      <th>published_airline</th>\n",
       "      <th>published_airline_iata</th>\n",
       "      <th>geo_summary</th>\n",
       "      <th>geo_region</th>\n",
       "      <th>activity_type</th>\n",
       "      <th>cargo_type</th>\n",
       "      <th>cargo_aircraft_type</th>\n",
       "      <th>cargo_weight_lbs</th>\n",
       "      <th>cargo_metric_tons</th>\n",
       "    </tr>\n",
       "  </thead>\n",
       "  <tbody>\n",
       "    <tr>\n",
       "      <th>0</th>\n",
       "      <td>200507</td>\n",
       "      <td>ABX Air</td>\n",
       "      <td>GB</td>\n",
       "      <td>ABX Air</td>\n",
       "      <td>GB</td>\n",
       "      <td>Domestic</td>\n",
       "      <td>US</td>\n",
       "      <td>Deplaned</td>\n",
       "      <td>Cargo</td>\n",
       "      <td>Freighter</td>\n",
       "      <td>45423</td>\n",
       "      <td>20.603873</td>\n",
       "    </tr>\n",
       "    <tr>\n",
       "      <th>1</th>\n",
       "      <td>200507</td>\n",
       "      <td>ABX Air</td>\n",
       "      <td>GB</td>\n",
       "      <td>ABX Air</td>\n",
       "      <td>GB</td>\n",
       "      <td>Domestic</td>\n",
       "      <td>US</td>\n",
       "      <td>Enplaned</td>\n",
       "      <td>Cargo</td>\n",
       "      <td>Freighter</td>\n",
       "      <td>106869</td>\n",
       "      <td>48.475778</td>\n",
       "    </tr>\n",
       "    <tr>\n",
       "      <th>2</th>\n",
       "      <td>200507</td>\n",
       "      <td>ATA Airlines</td>\n",
       "      <td>TZ</td>\n",
       "      <td>ATA Airlines</td>\n",
       "      <td>TZ</td>\n",
       "      <td>Domestic</td>\n",
       "      <td>US</td>\n",
       "      <td>Deplaned</td>\n",
       "      <td>Cargo</td>\n",
       "      <td>Passenger</td>\n",
       "      <td>55427</td>\n",
       "      <td>25.141687</td>\n",
       "    </tr>\n",
       "    <tr>\n",
       "      <th>3</th>\n",
       "      <td>200507</td>\n",
       "      <td>ATA Airlines</td>\n",
       "      <td>TZ</td>\n",
       "      <td>ATA Airlines</td>\n",
       "      <td>TZ</td>\n",
       "      <td>Domestic</td>\n",
       "      <td>US</td>\n",
       "      <td>Deplaned</td>\n",
       "      <td>Mail</td>\n",
       "      <td>Passenger</td>\n",
       "      <td>50278</td>\n",
       "      <td>22.806101</td>\n",
       "    </tr>\n",
       "    <tr>\n",
       "      <th>4</th>\n",
       "      <td>200507</td>\n",
       "      <td>ATA Airlines</td>\n",
       "      <td>TZ</td>\n",
       "      <td>ATA Airlines</td>\n",
       "      <td>TZ</td>\n",
       "      <td>Domestic</td>\n",
       "      <td>US</td>\n",
       "      <td>Enplaned</td>\n",
       "      <td>Cargo</td>\n",
       "      <td>Passenger</td>\n",
       "      <td>74183</td>\n",
       "      <td>33.649409</td>\n",
       "    </tr>\n",
       "  </tbody>\n",
       "</table>\n",
       "</div>"
      ],
      "text/plain": [
       "   activity_period operating_airline operating_airline_iata published_airline  \\\n",
       "0           200507           ABX Air                     GB           ABX Air   \n",
       "1           200507           ABX Air                     GB           ABX Air   \n",
       "2           200507      ATA Airlines                     TZ      ATA Airlines   \n",
       "3           200507      ATA Airlines                     TZ      ATA Airlines   \n",
       "4           200507      ATA Airlines                     TZ      ATA Airlines   \n",
       "\n",
       "  published_airline_iata geo_summary geo_region activity_type cargo_type  \\\n",
       "0                     GB    Domestic         US      Deplaned      Cargo   \n",
       "1                     GB    Domestic         US      Enplaned      Cargo   \n",
       "2                     TZ    Domestic         US      Deplaned      Cargo   \n",
       "3                     TZ    Domestic         US      Deplaned       Mail   \n",
       "4                     TZ    Domestic         US      Enplaned      Cargo   \n",
       "\n",
       "  cargo_aircraft_type  cargo_weight_lbs  cargo_metric_tons  \n",
       "0           Freighter             45423          20.603873  \n",
       "1           Freighter            106869          48.475778  \n",
       "2           Passenger             55427          25.141687  \n",
       "3           Passenger             50278          22.806101  \n",
       "4           Passenger             74183          33.649409  "
      ]
     },
     "execution_count": 6,
     "metadata": {},
     "output_type": "execute_result"
    }
   ],
   "source": [
    "data.head()"
   ]
  },
  {
   "cell_type": "code",
   "execution_count": 7,
   "metadata": {},
   "outputs": [
    {
     "data": {
      "text/html": [
       "<div>\n",
       "<style scoped>\n",
       "    .dataframe tbody tr th:only-of-type {\n",
       "        vertical-align: middle;\n",
       "    }\n",
       "\n",
       "    .dataframe tbody tr th {\n",
       "        vertical-align: top;\n",
       "    }\n",
       "\n",
       "    .dataframe thead th {\n",
       "        text-align: right;\n",
       "    }\n",
       "</style>\n",
       "<table border=\"1\" class=\"dataframe\">\n",
       "  <thead>\n",
       "    <tr style=\"text-align: right;\">\n",
       "      <th></th>\n",
       "      <th>activity_period</th>\n",
       "      <th>operating_airline</th>\n",
       "      <th>operating_airline_iata</th>\n",
       "      <th>published_airline</th>\n",
       "      <th>published_airline_iata</th>\n",
       "      <th>geo_summary</th>\n",
       "      <th>geo_region</th>\n",
       "      <th>activity_type</th>\n",
       "      <th>cargo_type</th>\n",
       "      <th>cargo_aircraft_type</th>\n",
       "      <th>cargo_weight_lbs</th>\n",
       "      <th>cargo_metric_tons</th>\n",
       "    </tr>\n",
       "  </thead>\n",
       "  <tbody>\n",
       "    <tr>\n",
       "      <th>34032</th>\n",
       "      <td>202012</td>\n",
       "      <td>United Airlines</td>\n",
       "      <td>UA</td>\n",
       "      <td>United Airlines</td>\n",
       "      <td>UA</td>\n",
       "      <td>International</td>\n",
       "      <td>Middle East</td>\n",
       "      <td>Deplaned</td>\n",
       "      <td>Express</td>\n",
       "      <td>Passenger</td>\n",
       "      <td>1916</td>\n",
       "      <td>0.869098</td>\n",
       "    </tr>\n",
       "    <tr>\n",
       "      <th>34033</th>\n",
       "      <td>202012</td>\n",
       "      <td>United Airlines</td>\n",
       "      <td>UA</td>\n",
       "      <td>United Airlines</td>\n",
       "      <td>UA</td>\n",
       "      <td>International</td>\n",
       "      <td>Middle East</td>\n",
       "      <td>Deplaned</td>\n",
       "      <td>Mail</td>\n",
       "      <td>Passenger</td>\n",
       "      <td>10271</td>\n",
       "      <td>4.658926</td>\n",
       "    </tr>\n",
       "    <tr>\n",
       "      <th>34034</th>\n",
       "      <td>202012</td>\n",
       "      <td>United Airlines</td>\n",
       "      <td>UA</td>\n",
       "      <td>United Airlines</td>\n",
       "      <td>UA</td>\n",
       "      <td>International</td>\n",
       "      <td>Middle East</td>\n",
       "      <td>Enplaned</td>\n",
       "      <td>Cargo</td>\n",
       "      <td>Passenger</td>\n",
       "      <td>183790</td>\n",
       "      <td>83.367144</td>\n",
       "    </tr>\n",
       "    <tr>\n",
       "      <th>34035</th>\n",
       "      <td>202012</td>\n",
       "      <td>United Airlines</td>\n",
       "      <td>UA</td>\n",
       "      <td>United Airlines</td>\n",
       "      <td>UA</td>\n",
       "      <td>International</td>\n",
       "      <td>Middle East</td>\n",
       "      <td>Enplaned</td>\n",
       "      <td>Express</td>\n",
       "      <td>Passenger</td>\n",
       "      <td>4400</td>\n",
       "      <td>1.995840</td>\n",
       "    </tr>\n",
       "    <tr>\n",
       "      <th>34036</th>\n",
       "      <td>202012</td>\n",
       "      <td>United Airlines</td>\n",
       "      <td>UA</td>\n",
       "      <td>United Airlines</td>\n",
       "      <td>UA</td>\n",
       "      <td>International</td>\n",
       "      <td>Middle East</td>\n",
       "      <td>Enplaned</td>\n",
       "      <td>Mail</td>\n",
       "      <td>Passenger</td>\n",
       "      <td>25029</td>\n",
       "      <td>11.353154</td>\n",
       "    </tr>\n",
       "  </tbody>\n",
       "</table>\n",
       "</div>"
      ],
      "text/plain": [
       "       activity_period operating_airline operating_airline_iata  \\\n",
       "34032           202012   United Airlines                     UA   \n",
       "34033           202012   United Airlines                     UA   \n",
       "34034           202012   United Airlines                     UA   \n",
       "34035           202012   United Airlines                     UA   \n",
       "34036           202012   United Airlines                     UA   \n",
       "\n",
       "      published_airline published_airline_iata    geo_summary   geo_region  \\\n",
       "34032   United Airlines                     UA  International  Middle East   \n",
       "34033   United Airlines                     UA  International  Middle East   \n",
       "34034   United Airlines                     UA  International  Middle East   \n",
       "34035   United Airlines                     UA  International  Middle East   \n",
       "34036   United Airlines                     UA  International  Middle East   \n",
       "\n",
       "      activity_type cargo_type cargo_aircraft_type  cargo_weight_lbs  \\\n",
       "34032      Deplaned    Express           Passenger              1916   \n",
       "34033      Deplaned       Mail           Passenger             10271   \n",
       "34034      Enplaned      Cargo           Passenger            183790   \n",
       "34035      Enplaned    Express           Passenger              4400   \n",
       "34036      Enplaned       Mail           Passenger             25029   \n",
       "\n",
       "       cargo_metric_tons  \n",
       "34032           0.869098  \n",
       "34033           4.658926  \n",
       "34034          83.367144  \n",
       "34035           1.995840  \n",
       "34036          11.353154  "
      ]
     },
     "execution_count": 7,
     "metadata": {},
     "output_type": "execute_result"
    }
   ],
   "source": [
    "data.tail()"
   ]
  },
  {
   "cell_type": "markdown",
   "metadata": {},
   "source": [
    "---\n",
    "\n",
    "### The dataset contains data of airflights of Amreican airlines (internal and international routes) through San Francisco International Airport (SFO), California, USA. The data is presented in the following groups (columns): \n",
    "\n",
    " <br>0   activity_period         - Dates of flights performing starting with July, 2005 up to December, 2020. Detailed up to months.\n",
    " <br>1   operating_airline       - Names of airlines\n",
    " <br>2   operating_airline_iata  - Ailine IATA code https://www.iata.org/en/about/ \n",
    " <br>3   published_airline       - Names of airlines \n",
    " <br>4   published_airline_iata  - Ailine IATA code https://www.iata.org/en/about/ \n",
    " <br>5   geo_summary             - indicates International or Domestic routes\n",
    " <br>6   geo_region              - shows a region of destination or departure included in a route. Any place outside California involved in a route.\n",
    " <br>7   activity_type           - shows the kind of activity - whether cargo was departed from a geo_region or deliverd to a geo_region \n",
    " <br>8   cargo_type              - indicates cargo type: Express, Cargo, Mail, etc. \n",
    " <br>9   cargo_aircraft_type     - indicats the type of aircraft - a cargo or passenger flight\n",
    " <br>10  cargo_weight_lbs        - cargo weight in lbs (= pounds)\n",
    " <br>11  cargo_metric_tons       - cargo metric weight in tons. Weight ranges 0,0004 tons (supposedly a mail) to 10801 tons (heavy cargo delivery).\n",
    " \n",
    " \n",
    " <br> The dataset has 12 columns, 34037 entries"
   ]
  },
  {
   "cell_type": "markdown",
   "metadata": {},
   "source": [
    "#### **The aim of the analysis is to research whether Covid-19 affected Airtransportation shpere. The Dataset  will be explored to detect any prominent changes occured in routes, or in extents of cargo deliveries.** "
   ]
  },
  {
   "cell_type": "markdown",
   "metadata": {},
   "source": [
    "### **Adjustment of datatypes and looking for additional information included in data** <a id=\"Start\"></a>"
   ]
  },
  {
   "cell_type": "markdown",
   "metadata": {},
   "source": [
    "##### [back to Content](#content)"
   ]
  },
  {
   "cell_type": "code",
   "execution_count": 8,
   "metadata": {},
   "outputs": [],
   "source": [
    "dt_copy=data.copy()"
   ]
  },
  {
   "cell_type": "code",
   "execution_count": 9,
   "metadata": {},
   "outputs": [],
   "source": [
    "dt_copy['date'] = pd.to_datetime(dt_copy['activity_period'], format='%Y%m')"
   ]
  },
  {
   "cell_type": "code",
   "execution_count": 10,
   "metadata": {},
   "outputs": [
    {
     "data": {
      "text/html": [
       "<div>\n",
       "<style scoped>\n",
       "    .dataframe tbody tr th:only-of-type {\n",
       "        vertical-align: middle;\n",
       "    }\n",
       "\n",
       "    .dataframe tbody tr th {\n",
       "        vertical-align: top;\n",
       "    }\n",
       "\n",
       "    .dataframe thead th {\n",
       "        text-align: right;\n",
       "    }\n",
       "</style>\n",
       "<table border=\"1\" class=\"dataframe\">\n",
       "  <thead>\n",
       "    <tr style=\"text-align: right;\">\n",
       "      <th></th>\n",
       "      <th>activity_period</th>\n",
       "      <th>operating_airline</th>\n",
       "      <th>operating_airline_iata</th>\n",
       "      <th>published_airline</th>\n",
       "      <th>published_airline_iata</th>\n",
       "      <th>geo_summary</th>\n",
       "      <th>geo_region</th>\n",
       "      <th>activity_type</th>\n",
       "      <th>cargo_type</th>\n",
       "      <th>cargo_aircraft_type</th>\n",
       "      <th>cargo_weight_lbs</th>\n",
       "      <th>cargo_metric_tons</th>\n",
       "      <th>date</th>\n",
       "    </tr>\n",
       "  </thead>\n",
       "  <tbody>\n",
       "    <tr>\n",
       "      <th>0</th>\n",
       "      <td>200507</td>\n",
       "      <td>ABX Air</td>\n",
       "      <td>GB</td>\n",
       "      <td>ABX Air</td>\n",
       "      <td>GB</td>\n",
       "      <td>Domestic</td>\n",
       "      <td>US</td>\n",
       "      <td>Deplaned</td>\n",
       "      <td>Cargo</td>\n",
       "      <td>Freighter</td>\n",
       "      <td>45423</td>\n",
       "      <td>20.603873</td>\n",
       "      <td>2005-07-01</td>\n",
       "    </tr>\n",
       "    <tr>\n",
       "      <th>1</th>\n",
       "      <td>200507</td>\n",
       "      <td>ABX Air</td>\n",
       "      <td>GB</td>\n",
       "      <td>ABX Air</td>\n",
       "      <td>GB</td>\n",
       "      <td>Domestic</td>\n",
       "      <td>US</td>\n",
       "      <td>Enplaned</td>\n",
       "      <td>Cargo</td>\n",
       "      <td>Freighter</td>\n",
       "      <td>106869</td>\n",
       "      <td>48.475778</td>\n",
       "      <td>2005-07-01</td>\n",
       "    </tr>\n",
       "  </tbody>\n",
       "</table>\n",
       "</div>"
      ],
      "text/plain": [
       "   activity_period operating_airline operating_airline_iata published_airline  \\\n",
       "0           200507           ABX Air                     GB           ABX Air   \n",
       "1           200507           ABX Air                     GB           ABX Air   \n",
       "\n",
       "  published_airline_iata geo_summary geo_region activity_type cargo_type  \\\n",
       "0                     GB    Domestic         US      Deplaned      Cargo   \n",
       "1                     GB    Domestic         US      Enplaned      Cargo   \n",
       "\n",
       "  cargo_aircraft_type  cargo_weight_lbs  cargo_metric_tons       date  \n",
       "0           Freighter             45423          20.603873 2005-07-01  \n",
       "1           Freighter            106869          48.475778 2005-07-01  "
      ]
     },
     "execution_count": 10,
     "metadata": {},
     "output_type": "execute_result"
    }
   ],
   "source": [
    "dt_copy.head(2)"
   ]
  },
  {
   "cell_type": "code",
   "execution_count": 11,
   "metadata": {},
   "outputs": [],
   "source": [
    "dt_copy.dropna(subset=['operating_airline'], inplace=True)"
   ]
  },
  {
   "cell_type": "markdown",
   "metadata": {},
   "source": [
    "___\n",
    "\n",
    "<br> The numbers didn't change, thus the initial dataset doesn't contain inavailable data. \n",
    "<br> decided to not drop all NANs by default, chose dropping in case of NAN occurance in'operating_airline' column. \n",
    "<br> The reason - this way allows year-to-year comparison including airlines, whcih stopped operating in a particular period (if there are any)."
   ]
  },
  {
   "cell_type": "code",
   "execution_count": 12,
   "metadata": {},
   "outputs": [
    {
     "data": {
      "text/html": [
       "<div>\n",
       "<style scoped>\n",
       "    .dataframe tbody tr th:only-of-type {\n",
       "        vertical-align: middle;\n",
       "    }\n",
       "\n",
       "    .dataframe tbody tr th {\n",
       "        vertical-align: top;\n",
       "    }\n",
       "\n",
       "    .dataframe thead th {\n",
       "        text-align: right;\n",
       "    }\n",
       "</style>\n",
       "<table border=\"1\" class=\"dataframe\">\n",
       "  <thead>\n",
       "    <tr style=\"text-align: right;\">\n",
       "      <th></th>\n",
       "      <th>activity_period</th>\n",
       "      <th>cargo_weight_lbs</th>\n",
       "      <th>cargo_metric_tons</th>\n",
       "    </tr>\n",
       "  </thead>\n",
       "  <tbody>\n",
       "    <tr>\n",
       "      <th>count</th>\n",
       "      <td>34037.000000</td>\n",
       "      <td>3.403700e+04</td>\n",
       "      <td>34037.000000</td>\n",
       "    </tr>\n",
       "    <tr>\n",
       "      <th>mean</th>\n",
       "      <td>201274.946529</td>\n",
       "      <td>4.773309e+05</td>\n",
       "      <td>216.517292</td>\n",
       "    </tr>\n",
       "    <tr>\n",
       "      <th>std</th>\n",
       "      <td>451.925014</td>\n",
       "      <td>9.484717e+05</td>\n",
       "      <td>430.226777</td>\n",
       "    </tr>\n",
       "    <tr>\n",
       "      <th>min</th>\n",
       "      <td>200507.000000</td>\n",
       "      <td>1.000000e+00</td>\n",
       "      <td>0.000454</td>\n",
       "    </tr>\n",
       "    <tr>\n",
       "      <th>25%</th>\n",
       "      <td>200903.000000</td>\n",
       "      <td>1.870200e+04</td>\n",
       "      <td>8.483227</td>\n",
       "    </tr>\n",
       "    <tr>\n",
       "      <th>50%</th>\n",
       "      <td>201302.000000</td>\n",
       "      <td>1.331840e+05</td>\n",
       "      <td>60.412262</td>\n",
       "    </tr>\n",
       "    <tr>\n",
       "      <th>75%</th>\n",
       "      <td>201703.000000</td>\n",
       "      <td>5.469500e+05</td>\n",
       "      <td>248.096520</td>\n",
       "    </tr>\n",
       "    <tr>\n",
       "      <th>max</th>\n",
       "      <td>202012.000000</td>\n",
       "      <td>2.381234e+07</td>\n",
       "      <td>10801.278330</td>\n",
       "    </tr>\n",
       "  </tbody>\n",
       "</table>\n",
       "</div>"
      ],
      "text/plain": [
       "       activity_period  cargo_weight_lbs  cargo_metric_tons\n",
       "count     34037.000000      3.403700e+04       34037.000000\n",
       "mean     201274.946529      4.773309e+05         216.517292\n",
       "std         451.925014      9.484717e+05         430.226777\n",
       "min      200507.000000      1.000000e+00           0.000454\n",
       "25%      200903.000000      1.870200e+04           8.483227\n",
       "50%      201302.000000      1.331840e+05          60.412262\n",
       "75%      201703.000000      5.469500e+05         248.096520\n",
       "max      202012.000000      2.381234e+07       10801.278330"
      ]
     },
     "execution_count": 12,
     "metadata": {},
     "output_type": "execute_result"
    }
   ],
   "source": [
    "dt_copy.describe()"
   ]
  },
  {
   "cell_type": "markdown",
   "metadata": {},
   "source": [
    ">>> The below are Activity periods."
   ]
  },
  {
   "cell_type": "code",
   "execution_count": 13,
   "metadata": {},
   "outputs": [
    {
     "data": {
      "text/plain": [
       "201909    210\n",
       "201908    210\n",
       "201907    209\n",
       "201910    208\n",
       "201906    207\n",
       "         ... \n",
       "201406    155\n",
       "202007    152\n",
       "202006    129\n",
       "202004    118\n",
       "202005    117\n",
       "Name: activity_period, Length: 186, dtype: int64"
      ]
     },
     "execution_count": 13,
     "metadata": {},
     "output_type": "execute_result"
    }
   ],
   "source": [
    "dt_copy.activity_period.value_counts()"
   ]
  },
  {
   "cell_type": "code",
   "execution_count": 14,
   "metadata": {},
   "outputs": [
    {
     "name": "stdout",
     "output_type": "stream",
     "text": [
      "186  Activity periods (which is months) in the Dataset.\n"
     ]
    }
   ],
   "source": [
    "print(len(dt_copy.activity_period.value_counts()),' Activity periods (which is months) in the Dataset.')"
   ]
  },
  {
   "cell_type": "markdown",
   "metadata": {},
   "source": [
    ">>> The below lists airlines and the number of flights made by each airline"
   ]
  },
  {
   "cell_type": "code",
   "execution_count": 15,
   "metadata": {},
   "outputs": [
    {
     "data": {
      "text/plain": [
       "United Airlines                     3218\n",
       "United Airlines - Pre 07/01/2013    2503\n",
       "Korean Air Lines                    1457\n",
       "Alaska Airlines                     1338\n",
       "Asiana Airlines                     1239\n",
       "                                    ... \n",
       "Qatar Airways                          4\n",
       "Focus Air                              2\n",
       "Air Canada Jazz                        2\n",
       "E.A.G.L.E.                             1\n",
       "Atlantic Southeast Airlines            1\n",
       "Name: operating_airline, Length: 96, dtype: int64"
      ]
     },
     "execution_count": 15,
     "metadata": {},
     "output_type": "execute_result"
    }
   ],
   "source": [
    "dt_copy.operating_airline.value_counts()"
   ]
  },
  {
   "cell_type": "code",
   "execution_count": 16,
   "metadata": {},
   "outputs": [
    {
     "data": {
      "text/plain": [
       "array(['ABX Air', 'ATA Airlines', 'Air Canada', 'Air China', 'Air France',\n",
       "       'Air New Zealand', 'Alaska Airlines', 'All Nippon Airways',\n",
       "       'American Airlines', 'Ameriflight', 'Asiana Airlines',\n",
       "       'Astar Air Cargo', 'Atlantic Southeast Airlines',\n",
       "       'British Airways', 'Cargolux Airlines', 'Cathay Pacific',\n",
       "       'China Airlines', 'China Cargo Airlines', 'Delta Air Lines',\n",
       "       'EVA Airways', 'Evergreen International Airlines',\n",
       "       'Federal Express', 'Frontier Airlines', 'Hawaiian Airlines',\n",
       "       'Horizon Air', 'Icelandair (Inactive)', 'Japan Airlines',\n",
       "       'KLM Royal Dutch Airlines', 'Kalitta Air', 'Kitty Hawk Air Cargo',\n",
       "       'Korean Air Lines', 'Lufthansa German Airlines',\n",
       "       'Midwest Airlines', 'Nippon Cargo Airlines',\n",
       "       'Northwest Airlines (became Delta)', 'Philippine Airlines',\n",
       "       'Singapore Airlines', 'SkyWest Airlines', 'Sun Country Airlines',\n",
       "       'TACA International Airlines, S.A.', 'Tradewinds Airlines',\n",
       "       'US Airways', 'United Airlines',\n",
       "       'United Airlines - Pre 07/01/2013', 'Virgin Atlantic',\n",
       "       'Southern Air', 'American Eagle Airlines', 'Qantas Airways',\n",
       "       'Air Canada Jazz', 'Focus Air', 'JetBlue Airways',\n",
       "       'Southwest Airlines', 'Aer Lingus', 'Virgin America',\n",
       "       'Jet Airways', 'Emirates', 'Aeromexico', 'E.A.G.L.E.',\n",
       "       'Air Cargo Carriers', 'Air Berlin', 'Republic Airlines',\n",
       "       'Swissport USA', 'Swiss International', 'LAN Peru',\n",
       "       'World Airways', 'Mesaba Airlines',\n",
       "       'Air Transport International, LLC.', 'ASTAR USA, LLC',\n",
       "       'Atlas Air, Inc', 'China Eastern', 'SAS Airlines',\n",
       "       'Total Airport Services, Inc. (Inactive)', 'Mesa Airlines',\n",
       "       'Etihad Airways', 'United Parcel Service CO', 'China Southern',\n",
       "       'Turkish Airlines', 'Compass Airlines', 'COPA Airlines, Inc.',\n",
       "       'Air India Limited', 'Air Pacific Limited dba Fiji Airways',\n",
       "       'Redding Aero Enterprises', 'WOW Air', 'Finnair',\n",
       "       'Hong Kong Airlines Limited', 'Iberia', 'Thomas Cook Airlines',\n",
       "       'Icelandair EHF', 'French Bee', 'Norwegian Air UK Ltd',\n",
       "       'Air Italy S.P.A', 'El Al Israel Airlines LTD.',\n",
       "       'TAP Air Portugal', 'Norwegian Air Shuttle ASA',\n",
       "       'Air Transport International, Inc.', 'Qatar Airways'], dtype=object)"
      ]
     },
     "execution_count": 16,
     "metadata": {},
     "output_type": "execute_result"
    }
   ],
   "source": [
    "dt_copy.operating_airline.unique()"
   ]
  },
  {
   "cell_type": "code",
   "execution_count": 17,
   "metadata": {},
   "outputs": [
    {
     "name": "stdout",
     "output_type": "stream",
     "text": [
      "96  unique airlinaes in the Dataset.\n"
     ]
    }
   ],
   "source": [
    "print(len(dt_copy.operating_airline.value_counts()),' unique airlinaes in the Dataset.')"
   ]
  },
  {
   "cell_type": "markdown",
   "metadata": {},
   "source": [
    ">>> the below shows the amount of IATA codes being used, accounting 88 in total"
   ]
  },
  {
   "cell_type": "code",
   "execution_count": 18,
   "metadata": {},
   "outputs": [
    {
     "data": {
      "text/plain": [
       "operating_airline_iata\n",
       "2Q     140\n",
       "5X       8\n",
       "5Y     220\n",
       "8C      20\n",
       "9S     134\n",
       "      ... \n",
       "WW      55\n",
       "XJ       5\n",
       "YV       5\n",
       "YX     218\n",
       "bxr     56\n",
       "Name: operating_airline, Length: 88, dtype: int64"
      ]
     },
     "execution_count": 18,
     "metadata": {},
     "output_type": "execute_result"
    }
   ],
   "source": [
    "dt_copy.groupby(['operating_airline_iata']).count()['operating_airline']"
   ]
  },
  {
   "cell_type": "code",
   "execution_count": 19,
   "metadata": {},
   "outputs": [
    {
     "data": {
      "text/plain": [
       "operating_airline_iata\n",
       "2Q                    [Air Cargo Carriers]\n",
       "5X              [United Parcel Service CO]\n",
       "5Y                        [Atlas Air, Inc]\n",
       "8C     [Air Transport International, Inc.]\n",
       "9S                          [Southern Air]\n",
       "                      ...                 \n",
       "WW                               [WOW Air]\n",
       "XJ                       [Mesaba Airlines]\n",
       "YV                         [Mesa Airlines]\n",
       "YX                      [Midwest Airlines]\n",
       "bxr             [Redding Aero Enterprises]\n",
       "Name: operating_airline, Length: 88, dtype: object"
      ]
     },
     "execution_count": 19,
     "metadata": {},
     "output_type": "execute_result"
    }
   ],
   "source": [
    "dt_copy.groupby(['operating_airline_iata'])['operating_airline'].unique()"
   ]
  },
  {
   "cell_type": "code",
   "execution_count": 20,
   "metadata": {},
   "outputs": [
    {
     "name": "stdout",
     "output_type": "stream",
     "text": [
      "88  quantity of unique iata codes in the Dataset.\n"
     ]
    }
   ],
   "source": [
    "print(len(dt_copy.groupby(['operating_airline_iata'])['operating_airline'].unique()),' quantity of unique iata codes in the Dataset.')"
   ]
  },
  {
   "cell_type": "markdown",
   "metadata": {},
   "source": [
    ">>> as we got 88 IATA codes, which is less than airlines quantity, we may check for asterics (*) in iata codes or NAN in iata codes. Codes with asterics can be assigned by IATA to some controlled routes, thus the code itself can be duplicated but expanded with the asterics-symbol as an additional identificator. Also we should keep in mind,that iata code isn't mandatory to render air transportation services, so an airline has a right to not have it."
   ]
  },
  {
   "cell_type": "code",
   "execution_count": 21,
   "metadata": {},
   "outputs": [
    {
     "data": {
      "text/plain": [
       "0        True\n",
       "1        True\n",
       "2        True\n",
       "3        True\n",
       "4        True\n",
       "         ... \n",
       "34032    True\n",
       "34033    True\n",
       "34034    True\n",
       "34035    True\n",
       "34036    True\n",
       "Name: operating_airline_iata, Length: 34037, dtype: bool"
      ]
     },
     "execution_count": 21,
     "metadata": {},
     "output_type": "execute_result"
    }
   ],
   "source": [
    "list_nNAN=dt_copy.operating_airline_iata.notnull()\n",
    "list_nNAN"
   ]
  },
  {
   "cell_type": "code",
   "execution_count": 22,
   "metadata": {},
   "outputs": [],
   "source": [
    "def starred_iata(string):\n",
    "    \"\"\"\n",
    "    функция вытаскивает из строки категорию заказа а если категрия (С или А) не указана - проставляет N\n",
    "    \"\"\"\n",
    "    if re.findall(r'\\*', str(string)): #re.IGNORECASE полезен если мы хотим поймать \"c\" и \"С\"\n",
    "        string = '*'\n",
    "    elif re.findall(r'NAN', str(string), flags=re.IGNORECASE): #re.IGNORECASE полезен если мы хотим поймать \"nan\" и \"NAN\"\n",
    "        string = 'NAN'    \n",
    "    else:\n",
    "        string = 'N'\n",
    "    return string"
   ]
  },
  {
   "cell_type": "code",
   "execution_count": 23,
   "metadata": {},
   "outputs": [],
   "source": [
    "dt_copy['starred_iata'] = [starred_iata(number) for number in dt_copy['operating_airline_iata']]"
   ]
  },
  {
   "cell_type": "code",
   "execution_count": 24,
   "metadata": {},
   "outputs": [
    {
     "data": {
      "text/html": [
       "<div>\n",
       "<style scoped>\n",
       "    .dataframe tbody tr th:only-of-type {\n",
       "        vertical-align: middle;\n",
       "    }\n",
       "\n",
       "    .dataframe tbody tr th {\n",
       "        vertical-align: top;\n",
       "    }\n",
       "\n",
       "    .dataframe thead th {\n",
       "        text-align: right;\n",
       "    }\n",
       "</style>\n",
       "<table border=\"1\" class=\"dataframe\">\n",
       "  <thead>\n",
       "    <tr style=\"text-align: right;\">\n",
       "      <th></th>\n",
       "      <th>activity_period</th>\n",
       "      <th>operating_airline</th>\n",
       "      <th>operating_airline_iata</th>\n",
       "      <th>published_airline</th>\n",
       "      <th>published_airline_iata</th>\n",
       "      <th>geo_summary</th>\n",
       "      <th>geo_region</th>\n",
       "      <th>activity_type</th>\n",
       "      <th>cargo_type</th>\n",
       "      <th>cargo_aircraft_type</th>\n",
       "      <th>cargo_weight_lbs</th>\n",
       "      <th>cargo_metric_tons</th>\n",
       "      <th>date</th>\n",
       "      <th>starred_iata</th>\n",
       "    </tr>\n",
       "  </thead>\n",
       "  <tbody>\n",
       "    <tr>\n",
       "      <th>0</th>\n",
       "      <td>200507</td>\n",
       "      <td>ABX Air</td>\n",
       "      <td>GB</td>\n",
       "      <td>ABX Air</td>\n",
       "      <td>GB</td>\n",
       "      <td>Domestic</td>\n",
       "      <td>US</td>\n",
       "      <td>Deplaned</td>\n",
       "      <td>Cargo</td>\n",
       "      <td>Freighter</td>\n",
       "      <td>45423</td>\n",
       "      <td>20.603873</td>\n",
       "      <td>2005-07-01</td>\n",
       "      <td>N</td>\n",
       "    </tr>\n",
       "    <tr>\n",
       "      <th>1</th>\n",
       "      <td>200507</td>\n",
       "      <td>ABX Air</td>\n",
       "      <td>GB</td>\n",
       "      <td>ABX Air</td>\n",
       "      <td>GB</td>\n",
       "      <td>Domestic</td>\n",
       "      <td>US</td>\n",
       "      <td>Enplaned</td>\n",
       "      <td>Cargo</td>\n",
       "      <td>Freighter</td>\n",
       "      <td>106869</td>\n",
       "      <td>48.475778</td>\n",
       "      <td>2005-07-01</td>\n",
       "      <td>N</td>\n",
       "    </tr>\n",
       "  </tbody>\n",
       "</table>\n",
       "</div>"
      ],
      "text/plain": [
       "   activity_period operating_airline operating_airline_iata published_airline  \\\n",
       "0           200507           ABX Air                     GB           ABX Air   \n",
       "1           200507           ABX Air                     GB           ABX Air   \n",
       "\n",
       "  published_airline_iata geo_summary geo_region activity_type cargo_type  \\\n",
       "0                     GB    Domestic         US      Deplaned      Cargo   \n",
       "1                     GB    Domestic         US      Enplaned      Cargo   \n",
       "\n",
       "  cargo_aircraft_type  cargo_weight_lbs  cargo_metric_tons       date  \\\n",
       "0           Freighter             45423          20.603873 2005-07-01   \n",
       "1           Freighter            106869          48.475778 2005-07-01   \n",
       "\n",
       "  starred_iata  \n",
       "0            N  \n",
       "1            N  "
      ]
     },
     "execution_count": 24,
     "metadata": {},
     "output_type": "execute_result"
    }
   ],
   "source": [
    "dt_copy.head(2)"
   ]
  },
  {
   "cell_type": "code",
   "execution_count": 25,
   "metadata": {},
   "outputs": [
    {
     "data": {
      "text/plain": [
       "N      33992\n",
       "NAN       45\n",
       "Name: starred_iata, dtype: int64"
      ]
     },
     "execution_count": 25,
     "metadata": {},
     "output_type": "execute_result"
    }
   ],
   "source": [
    "dt_copy.starred_iata.value_counts()"
   ]
  },
  {
   "cell_type": "markdown",
   "metadata": {},
   "source": [
    ">>> Thus the following airlines operate without iata"
   ]
  },
  {
   "cell_type": "code",
   "execution_count": 26,
   "metadata": {},
   "outputs": [
    {
     "data": {
      "text/plain": [
       "array(['Focus Air', 'E.A.G.L.E.', 'Swissport USA',\n",
       "       'Air Transport International, LLC.', 'ASTAR USA, LLC',\n",
       "       'Total Airport Services, Inc. (Inactive)'], dtype=object)"
      ]
     },
     "execution_count": 26,
     "metadata": {},
     "output_type": "execute_result"
    }
   ],
   "source": [
    "NAN_list=dt_copy.loc[dt_copy['starred_iata']=='NAN']\n",
    "NAN_list.operating_airline.unique() #these ailines hanen't IATA codes"
   ]
  },
  {
   "cell_type": "markdown",
   "metadata": {},
   "source": [
    ">>> thus we'll take data in the column 'opertaing_airline' as the primary key"
   ]
  },
  {
   "cell_type": "code",
   "execution_count": 29,
   "metadata": {},
   "outputs": [],
   "source": [
    "import datetime as dt"
   ]
  },
  {
   "cell_type": "code",
   "execution_count": 30,
   "metadata": {},
   "outputs": [],
   "source": [
    "dt_copy['year']=dt_copy['date'].dt.year.copy()"
   ]
  },
  {
   "cell_type": "markdown",
   "metadata": {},
   "source": [
    "### **Cargo weights distribution between years for General Dataset** <a id=\"CargoWeights\"></a>"
   ]
  },
  {
   "cell_type": "markdown",
   "metadata": {},
   "source": [
    "##### [back to Content](#content)"
   ]
  },
  {
   "cell_type": "code",
   "execution_count": 31,
   "metadata": {},
   "outputs": [
    {
     "data": {
      "text/plain": [
       "year\n",
       "2005    295960.964446\n",
       "2006    594856.637876\n",
       "2007    562933.038731\n",
       "2008    492150.195734\n",
       "2009    408102.419947\n",
       "2010    426724.360120\n",
       "2011    382018.488512\n",
       "2012    380790.013616\n",
       "2013    363793.555843\n",
       "2014    400614.544460\n",
       "2015    459467.541894\n",
       "2016    483230.679727\n",
       "2017    561805.879926\n",
       "2018    571355.322954\n",
       "2019    546436.979329\n",
       "2020    439358.440552\n",
       "Name: cargo_metric_tons, dtype: float64"
      ]
     },
     "execution_count": 31,
     "metadata": {},
     "output_type": "execute_result"
    }
   ],
   "source": [
    "dt_copy.groupby('year').sum()['cargo_metric_tons']"
   ]
  },
  {
   "cell_type": "code",
   "execution_count": 32,
   "metadata": {},
   "outputs": [
    {
     "data": {
      "image/png": "[encoded data removed]",
      "text/plain": [
       "<Figure size 432x288 with 1 Axes>"
      ]
     },
     "metadata": {
      "needs_background": "light"
     },
     "output_type": "display_data"
    }
   ],
   "source": [
    "dt_copy.groupby('year').sum()['cargo_metric_tons'].plot.line(y='year', title='Cargo transportation, weight/year',color = 'g',\n",
    "         marker='h', \n",
    "         markersize=10, linewidth=2,\n",
    "         markerfacecolor='white');"
   ]
  },
  {
   "cell_type": "markdown",
   "metadata": {},
   "source": [
    ">>> **The data shows that the peak of transported cargo weight was indicated in 2007. The year-to-year line isn't ascending or descending, the yearly cargo weight fluctates. So we can't make a conslusion that the drop in cargo weights in 2020 was caused solely by COVID-19. But the lowest points are indicated in 2013-2014 and 2020 - the years of world crisises beginning. So there is correlation between the figures reflecting the situation in cargo transportation and global situation in economics and goods supply.**"
   ]
  },
  {
   "cell_type": "markdown",
   "metadata": {},
   "source": [
    "### **Let's consider seasonality excistence and take for this the 2-years period: 2019 and 2020**<a id=\"seasonality\"></a>"
   ]
  },
  {
   "cell_type": "markdown",
   "metadata": {},
   "source": [
    "##### [back to Content](#content)"
   ]
  },
  {
   "cell_type": "code",
   "execution_count": 33,
   "metadata": {},
   "outputs": [
    {
     "data": {
      "text/html": [
       "<div>\n",
       "<style scoped>\n",
       "    .dataframe tbody tr th:only-of-type {\n",
       "        vertical-align: middle;\n",
       "    }\n",
       "\n",
       "    .dataframe tbody tr th {\n",
       "        vertical-align: top;\n",
       "    }\n",
       "\n",
       "    .dataframe thead th {\n",
       "        text-align: right;\n",
       "    }\n",
       "</style>\n",
       "<table border=\"1\" class=\"dataframe\">\n",
       "  <thead>\n",
       "    <tr style=\"text-align: right;\">\n",
       "      <th></th>\n",
       "      <th>activity_period</th>\n",
       "      <th>operating_airline</th>\n",
       "      <th>operating_airline_iata</th>\n",
       "      <th>published_airline</th>\n",
       "      <th>published_airline_iata</th>\n",
       "      <th>geo_summary</th>\n",
       "      <th>geo_region</th>\n",
       "      <th>activity_type</th>\n",
       "      <th>cargo_type</th>\n",
       "      <th>cargo_aircraft_type</th>\n",
       "      <th>cargo_weight_lbs</th>\n",
       "      <th>cargo_metric_tons</th>\n",
       "      <th>date</th>\n",
       "      <th>starred_iata</th>\n",
       "      <th>year</th>\n",
       "    </tr>\n",
       "  </thead>\n",
       "  <tbody>\n",
       "    <tr>\n",
       "      <th>29677</th>\n",
       "      <td>201901</td>\n",
       "      <td>Aer Lingus</td>\n",
       "      <td>EI</td>\n",
       "      <td>Aer Lingus</td>\n",
       "      <td>EI</td>\n",
       "      <td>International</td>\n",
       "      <td>Europe</td>\n",
       "      <td>Deplaned</td>\n",
       "      <td>Cargo</td>\n",
       "      <td>Passenger</td>\n",
       "      <td>148596</td>\n",
       "      <td>67.403146</td>\n",
       "      <td>2019-01-01</td>\n",
       "      <td>N</td>\n",
       "      <td>2019</td>\n",
       "    </tr>\n",
       "    <tr>\n",
       "      <th>29678</th>\n",
       "      <td>201901</td>\n",
       "      <td>Aer Lingus</td>\n",
       "      <td>EI</td>\n",
       "      <td>Aer Lingus</td>\n",
       "      <td>EI</td>\n",
       "      <td>International</td>\n",
       "      <td>Europe</td>\n",
       "      <td>Enplaned</td>\n",
       "      <td>Cargo</td>\n",
       "      <td>Passenger</td>\n",
       "      <td>87669</td>\n",
       "      <td>39.766658</td>\n",
       "      <td>2019-01-01</td>\n",
       "      <td>N</td>\n",
       "      <td>2019</td>\n",
       "    </tr>\n",
       "    <tr>\n",
       "      <th>29679</th>\n",
       "      <td>201901</td>\n",
       "      <td>Air Canada</td>\n",
       "      <td>AC</td>\n",
       "      <td>Air Canada</td>\n",
       "      <td>AC</td>\n",
       "      <td>International</td>\n",
       "      <td>Canada</td>\n",
       "      <td>Deplaned</td>\n",
       "      <td>Cargo</td>\n",
       "      <td>Passenger</td>\n",
       "      <td>61941</td>\n",
       "      <td>28.096438</td>\n",
       "      <td>2019-01-01</td>\n",
       "      <td>N</td>\n",
       "      <td>2019</td>\n",
       "    </tr>\n",
       "    <tr>\n",
       "      <th>29680</th>\n",
       "      <td>201901</td>\n",
       "      <td>Air Canada</td>\n",
       "      <td>AC</td>\n",
       "      <td>Air Canada</td>\n",
       "      <td>AC</td>\n",
       "      <td>International</td>\n",
       "      <td>Canada</td>\n",
       "      <td>Deplaned</td>\n",
       "      <td>Express</td>\n",
       "      <td>Passenger</td>\n",
       "      <td>3342</td>\n",
       "      <td>1.515931</td>\n",
       "      <td>2019-01-01</td>\n",
       "      <td>N</td>\n",
       "      <td>2019</td>\n",
       "    </tr>\n",
       "    <tr>\n",
       "      <th>29681</th>\n",
       "      <td>201901</td>\n",
       "      <td>Air Canada</td>\n",
       "      <td>AC</td>\n",
       "      <td>Air Canada</td>\n",
       "      <td>AC</td>\n",
       "      <td>International</td>\n",
       "      <td>Canada</td>\n",
       "      <td>Deplaned</td>\n",
       "      <td>Mail</td>\n",
       "      <td>Passenger</td>\n",
       "      <td>78048</td>\n",
       "      <td>35.402573</td>\n",
       "      <td>2019-01-01</td>\n",
       "      <td>N</td>\n",
       "      <td>2019</td>\n",
       "    </tr>\n",
       "  </tbody>\n",
       "</table>\n",
       "</div>"
      ],
      "text/plain": [
       "       activity_period operating_airline operating_airline_iata  \\\n",
       "29677           201901        Aer Lingus                     EI   \n",
       "29678           201901        Aer Lingus                     EI   \n",
       "29679           201901        Air Canada                     AC   \n",
       "29680           201901        Air Canada                     AC   \n",
       "29681           201901        Air Canada                     AC   \n",
       "\n",
       "      published_airline published_airline_iata    geo_summary geo_region  \\\n",
       "29677        Aer Lingus                     EI  International     Europe   \n",
       "29678        Aer Lingus                     EI  International     Europe   \n",
       "29679        Air Canada                     AC  International     Canada   \n",
       "29680        Air Canada                     AC  International     Canada   \n",
       "29681        Air Canada                     AC  International     Canada   \n",
       "\n",
       "      activity_type cargo_type cargo_aircraft_type  cargo_weight_lbs  \\\n",
       "29677      Deplaned      Cargo           Passenger            148596   \n",
       "29678      Enplaned      Cargo           Passenger             87669   \n",
       "29679      Deplaned      Cargo           Passenger             61941   \n",
       "29680      Deplaned    Express           Passenger              3342   \n",
       "29681      Deplaned       Mail           Passenger             78048   \n",
       "\n",
       "       cargo_metric_tons       date starred_iata  year  \n",
       "29677          67.403146 2019-01-01            N  2019  \n",
       "29678          39.766658 2019-01-01            N  2019  \n",
       "29679          28.096438 2019-01-01            N  2019  \n",
       "29680           1.515931 2019-01-01            N  2019  \n",
       "29681          35.402573 2019-01-01            N  2019  "
      ]
     },
     "execution_count": 33,
     "metadata": {},
     "output_type": "execute_result"
    }
   ],
   "source": [
    "dt_2019_2020=dt_copy.loc[(dt_copy['year']==2019)|(dt_copy['year']==2020)]\n",
    "dt_2019_2020.head()"
   ]
  },
  {
   "cell_type": "code",
   "execution_count": 34,
   "metadata": {},
   "outputs": [
    {
     "data": {
      "text/html": [
       "<div>\n",
       "<style scoped>\n",
       "    .dataframe tbody tr th:only-of-type {\n",
       "        vertical-align: middle;\n",
       "    }\n",
       "\n",
       "    .dataframe tbody tr th {\n",
       "        vertical-align: top;\n",
       "    }\n",
       "\n",
       "    .dataframe thead th {\n",
       "        text-align: right;\n",
       "    }\n",
       "</style>\n",
       "<table border=\"1\" class=\"dataframe\">\n",
       "  <thead>\n",
       "    <tr style=\"text-align: right;\">\n",
       "      <th></th>\n",
       "      <th></th>\n",
       "      <th>cargo_metric_tons</th>\n",
       "    </tr>\n",
       "    <tr>\n",
       "      <th>Year</th>\n",
       "      <th>GEO</th>\n",
       "      <th></th>\n",
       "    </tr>\n",
       "  </thead>\n",
       "  <tbody>\n",
       "    <tr>\n",
       "      <th rowspan=\"2\" valign=\"top\">2019-01-01</th>\n",
       "      <th>Domestic</th>\n",
       "      <td>17308.721910</td>\n",
       "    </tr>\n",
       "    <tr>\n",
       "      <th>International</th>\n",
       "      <td>26211.399379</td>\n",
       "    </tr>\n",
       "    <tr>\n",
       "      <th rowspan=\"2\" valign=\"top\">2019-02-01</th>\n",
       "      <th>Domestic</th>\n",
       "      <td>13827.525617</td>\n",
       "    </tr>\n",
       "    <tr>\n",
       "      <th>International</th>\n",
       "      <td>25160.297954</td>\n",
       "    </tr>\n",
       "    <tr>\n",
       "      <th>2019-03-01</th>\n",
       "      <th>Domestic</th>\n",
       "      <td>16693.939686</td>\n",
       "    </tr>\n",
       "  </tbody>\n",
       "</table>\n",
       "</div>"
      ],
      "text/plain": [
       "                          cargo_metric_tons\n",
       "Year       GEO                             \n",
       "2019-01-01 Domestic            17308.721910\n",
       "           International       26211.399379\n",
       "2019-02-01 Domestic            13827.525617\n",
       "           International       25160.297954\n",
       "2019-03-01 Domestic            16693.939686"
      ]
     },
     "execution_count": 34,
     "metadata": {},
     "output_type": "execute_result"
    }
   ],
   "source": [
    "dt_copy_2019_2020 = pd.DataFrame(dt_2019_2020.groupby([dt_2019_2020.date, dt_2019_2020.geo_summary])['cargo_metric_tons'].sum())\n",
    "dt_copy_2019_2020.index.set_names(['Year', 'GEO'], inplace = True)\n",
    "dt_copy_2019_2020.head()"
   ]
  },
  {
   "cell_type": "code",
   "execution_count": 35,
   "metadata": {},
   "outputs": [
    {
     "data": {
      "image/png": "[encoded data removed]",
      "text/plain": [
       "<Figure size 432x288 with 1 Axes>"
      ]
     },
     "metadata": {
      "needs_background": "light"
     },
     "output_type": "display_data"
    }
   ],
   "source": [
    "dt_copy_2019_2020.unstack().plot.bar(y='cargo_metric_tons', title='Domestic vs International Cargo transportation, (tons)', rot=45);"
   ]
  },
  {
   "cell_type": "markdown",
   "metadata": {},
   "source": [
    ">>> there isn't such factor as seasonality"
   ]
  },
  {
   "cell_type": "markdown",
   "metadata": {},
   "source": [
    ">>> in additional let's have a look at the 2-years dynamics "
   ]
  },
  {
   "cell_type": "code",
   "execution_count": 36,
   "metadata": {},
   "outputs": [
    {
     "data": {
      "text/html": [
       "<div>\n",
       "<style scoped>\n",
       "    .dataframe tbody tr th:only-of-type {\n",
       "        vertical-align: middle;\n",
       "    }\n",
       "\n",
       "    .dataframe tbody tr th {\n",
       "        vertical-align: top;\n",
       "    }\n",
       "\n",
       "    .dataframe thead th {\n",
       "        text-align: right;\n",
       "    }\n",
       "</style>\n",
       "<table border=\"1\" class=\"dataframe\">\n",
       "  <thead>\n",
       "    <tr style=\"text-align: right;\">\n",
       "      <th></th>\n",
       "      <th></th>\n",
       "      <th>cargo_metric_tons</th>\n",
       "    </tr>\n",
       "    <tr>\n",
       "      <th>Year</th>\n",
       "      <th>GEO</th>\n",
       "      <th></th>\n",
       "    </tr>\n",
       "  </thead>\n",
       "  <tbody>\n",
       "    <tr>\n",
       "      <th rowspan=\"2\" valign=\"top\">2019</th>\n",
       "      <th>Domestic</th>\n",
       "      <td>190650.378849</td>\n",
       "    </tr>\n",
       "    <tr>\n",
       "      <th>International</th>\n",
       "      <td>355786.600480</td>\n",
       "    </tr>\n",
       "    <tr>\n",
       "      <th rowspan=\"2\" valign=\"top\">2020</th>\n",
       "      <th>Domestic</th>\n",
       "      <td>196277.971328</td>\n",
       "    </tr>\n",
       "    <tr>\n",
       "      <th>International</th>\n",
       "      <td>243080.469224</td>\n",
       "    </tr>\n",
       "  </tbody>\n",
       "</table>\n",
       "</div>"
      ],
      "text/plain": [
       "                    cargo_metric_tons\n",
       "Year GEO                             \n",
       "2019 Domestic           190650.378849\n",
       "     International      355786.600480\n",
       "2020 Domestic           196277.971328\n",
       "     International      243080.469224"
      ]
     },
     "execution_count": 36,
     "metadata": {},
     "output_type": "execute_result"
    }
   ],
   "source": [
    "dt_copy_2019_2020 = pd.DataFrame(dt_2019_2020.groupby([dt_2019_2020.year, dt_2019_2020.geo_summary])['cargo_metric_tons'].sum())\n",
    "dt_copy_2019_2020.index.set_names(['Year', 'GEO'], inplace = True)\n",
    "dt_copy_2019_2020.head()"
   ]
  },
  {
   "cell_type": "code",
   "execution_count": 37,
   "metadata": {},
   "outputs": [
    {
     "data": {
      "image/png": "[encoded data removed]",
      "text/plain": [
       "<Figure size 432x288 with 1 Axes>"
      ]
     },
     "metadata": {
      "needs_background": "light"
     },
     "output_type": "display_data"
    }
   ],
   "source": [
    "dt_copy_2019_2020.unstack().plot.bar(y='cargo_metric_tons', title='Domestic vs International Cargo transportation, (tons)', rot=45);"
   ]
  },
  {
   "cell_type": "markdown",
   "metadata": {},
   "source": [
    "### **What about airlines qty** <a id=\"AirlineQty\"></a>"
   ]
  },
  {
   "cell_type": "markdown",
   "metadata": {},
   "source": [
    "##### [back to Content](#content)"
   ]
  },
  {
   "cell_type": "code",
   "execution_count": 38,
   "metadata": {},
   "outputs": [
    {
     "data": {
      "text/plain": [
       "year\n",
       "2005    1158\n",
       "2006    2270\n",
       "2007    2290\n",
       "2008    2289\n",
       "2009    2254\n",
       "2010    2262\n",
       "2011    2133\n",
       "2012    2077\n",
       "2013    2016\n",
       "2014    1981\n",
       "2015    2141\n",
       "2016    2196\n",
       "2017    2289\n",
       "2018    2321\n",
       "2019    2430\n",
       "2020    1930\n",
       "Name: operating_airline, dtype: int64"
      ]
     },
     "execution_count": 38,
     "metadata": {},
     "output_type": "execute_result"
    }
   ],
   "source": [
    "dt_copy.groupby('year').count()['operating_airline']"
   ]
  },
  {
   "cell_type": "code",
   "execution_count": 39,
   "metadata": {},
   "outputs": [
    {
     "data": {
      "image/png": "[encoded data removed]",
      "text/plain": [
       "<Figure size 432x288 with 1 Axes>"
      ]
     },
     "metadata": {
      "needs_background": "light"
     },
     "output_type": "display_data"
    }
   ],
   "source": [
    "dt_copy.groupby('year').count()['operating_airline'].plot.line(y='year', title='Cargo transportation, weight/year',color = 'g',\n",
    "         marker='h', \n",
    "         markersize=10, linewidth=2,\n",
    "         markerfacecolor='white');"
   ]
  },
  {
   "cell_type": "markdown",
   "metadata": {},
   "source": [
    ">>> analogous picture. But the lowest points are indicated in 2014 and 2020 - the both years are years of world crisises beginning. So there is correlation between the figures reflecting the situation in cargo transportation and global situation in economics and goods supply.  "
   ]
  },
  {
   "cell_type": "markdown",
   "metadata": {},
   "source": [
    "#### **Cargo weights distribution between years for Freighter aircraft type slice**<a id=\"Freightersweight\"></a>"
   ]
  },
  {
   "cell_type": "markdown",
   "metadata": {},
   "source": [
    "##### [back to Content](#content)"
   ]
  },
  {
   "cell_type": "code",
   "execution_count": 40,
   "metadata": {},
   "outputs": [
    {
     "data": {
      "text/plain": [
       "year\n",
       "2005    134701.112246\n",
       "2006    266888.315682\n",
       "2007    241792.363614\n",
       "2008    196619.473611\n",
       "2009    157114.064773\n",
       "2010    158386.923071\n",
       "2011    138748.178617\n",
       "2012    127849.273322\n",
       "2013    114300.496699\n",
       "2014    123764.834390\n",
       "2015    156474.933302\n",
       "2016    149276.361174\n",
       "2017    156704.271646\n",
       "2018    146098.978452\n",
       "2019    131388.932762\n",
       "2020    172653.750308\n",
       "Name: cargo_metric_tons, dtype: float64"
      ]
     },
     "execution_count": 40,
     "metadata": {},
     "output_type": "execute_result"
    }
   ],
   "source": [
    "dt_copy[dt_copy['cargo_aircraft_type']=='Freighter'].groupby('year').sum()['cargo_metric_tons']"
   ]
  },
  {
   "cell_type": "code",
   "execution_count": 41,
   "metadata": {},
   "outputs": [
    {
     "data": {
      "image/png": "[encoded data removed]",
      "text/plain": [
       "<Figure size 432x288 with 1 Axes>"
      ]
     },
     "metadata": {
      "needs_background": "light"
     },
     "output_type": "display_data"
    }
   ],
   "source": [
    "dt_copy[dt_copy['cargo_aircraft_type']=='Freighter'].groupby('year').sum()['cargo_metric_tons'].plot.line(y='year', title='Cargo transportation (Freighter board), weight/year',color = 'b',\n",
    "         marker='h', \n",
    "         markersize=10, linewidth=2,\n",
    "         markerfacecolor='white');"
   ]
  },
  {
   "cell_type": "code",
   "execution_count": 42,
   "metadata": {},
   "outputs": [
    {
     "data": {
      "text/plain": [
       "year\n",
       "2005     57349.782000\n",
       "2006    114389.568771\n",
       "2007    103735.511764\n",
       "2008     87979.952540\n",
       "2009     72076.456671\n",
       "2010     92728.344391\n",
       "2011     75080.284321\n",
       "2012     58906.968573\n",
       "2013     65214.885303\n",
       "2014     61643.384057\n",
       "2015     65784.571979\n",
       "2016     57005.310449\n",
       "2017     57608.008314\n",
       "2018     51801.336367\n",
       "2019     44802.931119\n",
       "2020     53627.128531\n",
       "Name: cargo_metric_tons, dtype: float64"
      ]
     },
     "execution_count": 42,
     "metadata": {},
     "output_type": "execute_result"
    }
   ],
   "source": [
    "dt_copy[(dt_copy['cargo_aircraft_type']=='Freighter')&(dt_copy['geo_summary']=='International')].groupby('year').sum()['cargo_metric_tons']"
   ]
  },
  {
   "cell_type": "code",
   "execution_count": 43,
   "metadata": {},
   "outputs": [
    {
     "data": {
      "image/png": "[encoded data removed]",
      "text/plain": [
       "<Figure size 432x288 with 1 Axes>"
      ]
     },
     "metadata": {
      "needs_background": "light"
     },
     "output_type": "display_data"
    }
   ],
   "source": [
    "dt_copy[(dt_copy['cargo_aircraft_type']=='Freighter')&(dt_copy['geo_summary']=='International')].groupby('year').sum()['cargo_metric_tons'].plot.line(y='year', title='Cargo transportation (Freighter board, International routes), weight/year',color = 'b',\n",
    "         marker='h', \n",
    "         markersize=10, linewidth=2,\n",
    "         markerfacecolor='white');"
   ]
  },
  {
   "cell_type": "markdown",
   "metadata": {},
   "source": [
    "#### **Cargo weights distribution between years for Passenger aircraft type slice**<a id=\"Passengersboardw\"></a>\n",
    "##### [back to Content](#content)"
   ]
  },
  {
   "cell_type": "code",
   "execution_count": 44,
   "metadata": {},
   "outputs": [
    {
     "data": {
      "text/plain": [
       "year\n",
       "2005    149701.535880\n",
       "2006    306052.752046\n",
       "2007    299628.726868\n",
       "2008    282222.101299\n",
       "2009    240878.678948\n",
       "2010    254925.623131\n",
       "2011    232698.736418\n",
       "2012    241369.492292\n",
       "2013    244514.092435\n",
       "2014    276845.480250\n",
       "2015    302612.602471\n",
       "2016    333954.318553\n",
       "2017    405101.608279\n",
       "2018    425256.344502\n",
       "2019    415048.046567\n",
       "2020    266704.690244\n",
       "Name: cargo_metric_tons, dtype: float64"
      ]
     },
     "execution_count": 44,
     "metadata": {},
     "output_type": "execute_result"
    }
   ],
   "source": [
    "dt_copy[dt_copy['cargo_aircraft_type']=='Passenger'].groupby('year').sum()['cargo_metric_tons']"
   ]
  },
  {
   "cell_type": "code",
   "execution_count": 45,
   "metadata": {},
   "outputs": [
    {
     "data": {
      "image/png": "[encoded data removed]",
      "text/plain": [
       "<Figure size 432x288 with 1 Axes>"
      ]
     },
     "metadata": {
      "needs_background": "light"
     },
     "output_type": "display_data"
    }
   ],
   "source": [
    "dt_copy[dt_copy['cargo_aircraft_type']=='Passenger'].groupby('year').sum()['cargo_metric_tons'].plot.line(y='year', title='Cargo transportation (Passenger board), weight/year',color = 'r',\n",
    "         marker='h', \n",
    "         markersize=10, linewidth=2,\n",
    "         markerfacecolor='white');"
   ]
  },
  {
   "cell_type": "code",
   "execution_count": 46,
   "metadata": {},
   "outputs": [
    {
     "data": {
      "text/plain": [
       "year\n",
       "2005     85728.546139\n",
       "2006    182176.499434\n",
       "2007    197019.586008\n",
       "2008    185651.025993\n",
       "2009    160061.638766\n",
       "2010    171166.004453\n",
       "2011    157410.312294\n",
       "2012    156434.132435\n",
       "2013    156837.945750\n",
       "2014    187067.450506\n",
       "2015    207913.366079\n",
       "2016    234042.911528\n",
       "2017    285968.136486\n",
       "2018    312944.259196\n",
       "2019    310983.669361\n",
       "2020    189453.340694\n",
       "Name: cargo_metric_tons, dtype: float64"
      ]
     },
     "execution_count": 46,
     "metadata": {},
     "output_type": "execute_result"
    }
   ],
   "source": [
    "dt_copy[(dt_copy['cargo_aircraft_type']=='Passenger')&(dt_copy['geo_summary']=='International')].groupby('year').sum()['cargo_metric_tons']"
   ]
  },
  {
   "cell_type": "code",
   "execution_count": 47,
   "metadata": {},
   "outputs": [
    {
     "data": {
      "image/png": "[encoded data removed]",
      "text/plain": [
       "<Figure size 432x288 with 1 Axes>"
      ]
     },
     "metadata": {
      "needs_background": "light"
     },
     "output_type": "display_data"
    }
   ],
   "source": [
    "dt_copy[(dt_copy['cargo_aircraft_type']=='Passenger')&(dt_copy['geo_summary']=='International')].groupby('year').sum()['cargo_metric_tons'].plot.line(y='year', title='Cargo transportation (Passenger board, International routes), weight/year',color = 'r',\n",
    "         marker='h', \n",
    "         markersize=10, linewidth=2,\n",
    "         markerfacecolor='white');"
   ]
  },
  {
   "cell_type": "markdown",
   "metadata": {},
   "source": [
    "### **Cargo transportation in regard to routes: Domestic vs International** <a id=\"Routes\"></a>\n",
    "##### [back to Content](#content)"
   ]
  },
  {
   "cell_type": "markdown",
   "metadata": {},
   "source": [
    "---\n",
    "> **Cargo Weight as indicator**<a id=\"WeihgtsInd\"></a>"
   ]
  },
  {
   "cell_type": "code",
   "execution_count": 48,
   "metadata": {},
   "outputs": [
    {
     "data": {
      "text/plain": [
       "year  geo_summary  \n",
       "2005  Domestic         141324.319988\n",
       "      International    154636.644458\n",
       "2006  Domestic         276374.999524\n",
       "      International    318481.638352\n",
       "2007  Domestic         240665.992711\n",
       "      International    322267.046020\n",
       "2008  Domestic         205210.596377\n",
       "      International    286939.599358\n",
       "2009  Domestic         165854.648283\n",
       "      International    242247.771663\n",
       "2010  Domestic         149418.197359\n",
       "      International    277306.162761\n",
       "2011  Domestic         138956.318421\n",
       "      International    243062.170091\n",
       "2012  Domestic         153877.664606\n",
       "      International    226912.349010\n",
       "2013  Domestic         136761.758081\n",
       "      International    227031.797762\n",
       "2014  Domestic         151899.480078\n",
       "      International    248715.064382\n",
       "2015  Domestic         185389.597714\n",
       "      International    274077.944180\n",
       "2016  Domestic         192182.457751\n",
       "      International    291048.221976\n",
       "2017  Domestic         218229.735125\n",
       "      International    343576.144800\n",
       "2018  Domestic         206609.727390\n",
       "      International    364745.595563\n",
       "2019  Domestic         190650.378849\n",
       "      International    355786.600480\n",
       "2020  Domestic         196277.971328\n",
       "      International    243080.469224\n",
       "Name: cargo_metric_tons, dtype: float64"
      ]
     },
     "execution_count": 48,
     "metadata": {},
     "output_type": "execute_result"
    }
   ],
   "source": [
    "dt_copy.groupby([dt_copy.year, dt_copy.geo_summary]).sum()['cargo_metric_tons']"
   ]
  },
  {
   "cell_type": "code",
   "execution_count": 49,
   "metadata": {},
   "outputs": [
    {
     "data": {
      "text/html": [
       "<div>\n",
       "<style scoped>\n",
       "    .dataframe tbody tr th:only-of-type {\n",
       "        vertical-align: middle;\n",
       "    }\n",
       "\n",
       "    .dataframe tbody tr th {\n",
       "        vertical-align: top;\n",
       "    }\n",
       "\n",
       "    .dataframe thead th {\n",
       "        text-align: right;\n",
       "    }\n",
       "</style>\n",
       "<table border=\"1\" class=\"dataframe\">\n",
       "  <thead>\n",
       "    <tr style=\"text-align: right;\">\n",
       "      <th></th>\n",
       "      <th></th>\n",
       "      <th>cargo_metric_tons</th>\n",
       "    </tr>\n",
       "    <tr>\n",
       "      <th>Year</th>\n",
       "      <th>GEO</th>\n",
       "      <th></th>\n",
       "    </tr>\n",
       "  </thead>\n",
       "  <tbody>\n",
       "    <tr>\n",
       "      <th rowspan=\"2\" valign=\"top\">2005</th>\n",
       "      <th>Domestic</th>\n",
       "      <td>141324.319988</td>\n",
       "    </tr>\n",
       "    <tr>\n",
       "      <th>International</th>\n",
       "      <td>154636.644458</td>\n",
       "    </tr>\n",
       "    <tr>\n",
       "      <th rowspan=\"2\" valign=\"top\">2006</th>\n",
       "      <th>Domestic</th>\n",
       "      <td>276374.999524</td>\n",
       "    </tr>\n",
       "    <tr>\n",
       "      <th>International</th>\n",
       "      <td>318481.638352</td>\n",
       "    </tr>\n",
       "    <tr>\n",
       "      <th>2007</th>\n",
       "      <th>Domestic</th>\n",
       "      <td>240665.992711</td>\n",
       "    </tr>\n",
       "  </tbody>\n",
       "</table>\n",
       "</div>"
      ],
      "text/plain": [
       "                    cargo_metric_tons\n",
       "Year GEO                             \n",
       "2005 Domestic           141324.319988\n",
       "     International      154636.644458\n",
       "2006 Domestic           276374.999524\n",
       "     International      318481.638352\n",
       "2007 Domestic           240665.992711"
      ]
     },
     "execution_count": 49,
     "metadata": {},
     "output_type": "execute_result"
    }
   ],
   "source": [
    "dt_geo = pd.DataFrame(dt_copy.groupby([dt_copy.year, dt_copy.geo_summary])['cargo_metric_tons'].sum())\n",
    "dt_geo.index.set_names(['Year', 'GEO'], inplace = True)\n",
    "dt_geo.head()"
   ]
  },
  {
   "cell_type": "code",
   "execution_count": 50,
   "metadata": {},
   "outputs": [
    {
     "data": {
      "image/png": "[encoded data removed]",
      "text/plain": [
       "<Figure size 432x288 with 1 Axes>"
      ]
     },
     "metadata": {
      "needs_background": "light"
     },
     "output_type": "display_data"
    }
   ],
   "source": [
    "dt_geo.unstack().plot.bar(y='cargo_metric_tons', title='Domestic vs International Cargo transportation, (tons)', rot=45);"
   ]
  },
  {
   "cell_type": "markdown",
   "metadata": {},
   "source": [
    ">>> The bar chart of ratio of Domsetic to International cargo weight (on yearly basis) shows drop of International cargo transporation in 2020. while the Domestic transportation almost remained the same. That could be the result of restrictions imposed due to COVID-19"
   ]
  },
  {
   "cell_type": "markdown",
   "metadata": {},
   "source": [
    "---\n",
    "> **Flights Qty as indicator**<a id=\"FlightsInd\"></a>"
   ]
  },
  {
   "cell_type": "code",
   "execution_count": 51,
   "metadata": {},
   "outputs": [
    {
     "data": {
      "text/plain": [
       "year  geo_summary  \n",
       "2005  Domestic          432\n",
       "      International     726\n",
       "2006  Domestic          775\n",
       "      International    1495\n",
       "2007  Domestic          756\n",
       "      International    1534\n",
       "2008  Domestic          694\n",
       "      International    1595\n",
       "2009  Domestic          662\n",
       "      International    1592\n",
       "2010  Domestic          631\n",
       "      International    1631\n",
       "2011  Domestic          604\n",
       "      International    1529\n",
       "2012  Domestic          599\n",
       "      International    1478\n",
       "2013  Domestic          514\n",
       "      International    1502\n",
       "2014  Domestic          479\n",
       "      International    1502\n",
       "2015  Domestic          515\n",
       "      International    1626\n",
       "2016  Domestic          476\n",
       "      International    1720\n",
       "2017  Domestic          507\n",
       "      International    1782\n",
       "2018  Domestic          497\n",
       "      International    1824\n",
       "2019  Domestic          534\n",
       "      International    1896\n",
       "2020  Domestic          554\n",
       "      International    1376\n",
       "Name: cargo_metric_tons, dtype: int64"
      ]
     },
     "execution_count": 51,
     "metadata": {},
     "output_type": "execute_result"
    }
   ],
   "source": [
    "dt_copy.groupby([dt_copy.year, dt_copy.geo_summary]).count()['cargo_metric_tons']"
   ]
  },
  {
   "cell_type": "code",
   "execution_count": 52,
   "metadata": {},
   "outputs": [
    {
     "data": {
      "text/html": [
       "<div>\n",
       "<style scoped>\n",
       "    .dataframe tbody tr th:only-of-type {\n",
       "        vertical-align: middle;\n",
       "    }\n",
       "\n",
       "    .dataframe tbody tr th {\n",
       "        vertical-align: top;\n",
       "    }\n",
       "\n",
       "    .dataframe thead th {\n",
       "        text-align: right;\n",
       "    }\n",
       "</style>\n",
       "<table border=\"1\" class=\"dataframe\">\n",
       "  <thead>\n",
       "    <tr style=\"text-align: right;\">\n",
       "      <th></th>\n",
       "      <th></th>\n",
       "      <th>cargo_metric_tons</th>\n",
       "    </tr>\n",
       "    <tr>\n",
       "      <th>Year</th>\n",
       "      <th>GEO</th>\n",
       "      <th></th>\n",
       "    </tr>\n",
       "  </thead>\n",
       "  <tbody>\n",
       "    <tr>\n",
       "      <th rowspan=\"2\" valign=\"top\">2005</th>\n",
       "      <th>Domestic</th>\n",
       "      <td>432</td>\n",
       "    </tr>\n",
       "    <tr>\n",
       "      <th>International</th>\n",
       "      <td>726</td>\n",
       "    </tr>\n",
       "    <tr>\n",
       "      <th rowspan=\"2\" valign=\"top\">2006</th>\n",
       "      <th>Domestic</th>\n",
       "      <td>775</td>\n",
       "    </tr>\n",
       "    <tr>\n",
       "      <th>International</th>\n",
       "      <td>1495</td>\n",
       "    </tr>\n",
       "    <tr>\n",
       "      <th>2007</th>\n",
       "      <th>Domestic</th>\n",
       "      <td>756</td>\n",
       "    </tr>\n",
       "  </tbody>\n",
       "</table>\n",
       "</div>"
      ],
      "text/plain": [
       "                    cargo_metric_tons\n",
       "Year GEO                             \n",
       "2005 Domestic                     432\n",
       "     International                726\n",
       "2006 Domestic                     775\n",
       "     International               1495\n",
       "2007 Domestic                     756"
      ]
     },
     "execution_count": 52,
     "metadata": {},
     "output_type": "execute_result"
    }
   ],
   "source": [
    "dt_geo_fl = pd.DataFrame(dt_copy.groupby([dt_copy.year, dt_copy.geo_summary])['cargo_metric_tons'].count())\n",
    "dt_geo_fl.index.set_names(['Year', 'GEO'], inplace = True)\n",
    "dt_geo_fl.head()"
   ]
  },
  {
   "cell_type": "code",
   "execution_count": 53,
   "metadata": {},
   "outputs": [
    {
     "data": {
      "image/png": "[encoded data removed]",
      "text/plain": [
       "<Figure size 432x288 with 1 Axes>"
      ]
     },
     "metadata": {
      "needs_background": "light"
     },
     "output_type": "display_data"
    }
   ],
   "source": [
    "dt_geo_fl.unstack().plot.bar(y='cargo_metric_tons', title='Domestic vs International flights', rot=45);"
   ]
  },
  {
   "cell_type": "markdown",
   "metadata": {},
   "source": [
    ">>> The bar chart of ratio of Domsetic to International flights (on yearly basis) shows drop of International cargo transporation in 2020. while the Domestic transportation almost remained the same. That could be the result of restrictions imposed due to COVID-19"
   ]
  },
  {
   "cell_type": "markdown",
   "metadata": {},
   "source": [
    "---\n",
    "> **Mean of Weight per flight as indicator**<a id=\"MeanIndicator\"></a>"
   ]
  },
  {
   "cell_type": "code",
   "execution_count": 54,
   "metadata": {},
   "outputs": [
    {
     "data": {
      "text/plain": [
       "year  geo_summary  \n",
       "2005  Domestic         327.139630\n",
       "      International    212.998133\n",
       "2006  Domestic         356.612903\n",
       "      International    213.031196\n",
       "2007  Domestic         318.341260\n",
       "      International    210.082820\n",
       "2008  Domestic         295.692502\n",
       "      International    179.899435\n",
       "2009  Domestic         250.535722\n",
       "      International    152.165686\n",
       "2010  Domestic         236.795875\n",
       "      International    170.022172\n",
       "2011  Domestic         230.060130\n",
       "      International    158.968064\n",
       "2012  Domestic         256.890926\n",
       "      International    153.526623\n",
       "2013  Domestic         266.073459\n",
       "      International    151.152995\n",
       "2014  Domestic         317.117912\n",
       "      International    165.589257\n",
       "2015  Domestic         359.979801\n",
       "      International    168.559621\n",
       "2016  Domestic         403.744659\n",
       "      International    169.214083\n",
       "2017  Domestic         430.433403\n",
       "      International    192.803673\n",
       "2018  Domestic         415.713737\n",
       "      International    199.970173\n",
       "2019  Domestic         357.023181\n",
       "      International    187.651161\n",
       "2020  Domestic         354.292367\n",
       "      International    176.657318\n",
       "Name: cargo_metric_tons, dtype: float64"
      ]
     },
     "execution_count": 54,
     "metadata": {},
     "output_type": "execute_result"
    }
   ],
   "source": [
    "dt_copy.groupby([dt_copy.year, dt_copy.geo_summary]).mean()['cargo_metric_tons']"
   ]
  },
  {
   "cell_type": "code",
   "execution_count": 55,
   "metadata": {},
   "outputs": [
    {
     "data": {
      "text/html": [
       "<div>\n",
       "<style scoped>\n",
       "    .dataframe tbody tr th:only-of-type {\n",
       "        vertical-align: middle;\n",
       "    }\n",
       "\n",
       "    .dataframe tbody tr th {\n",
       "        vertical-align: top;\n",
       "    }\n",
       "\n",
       "    .dataframe thead th {\n",
       "        text-align: right;\n",
       "    }\n",
       "</style>\n",
       "<table border=\"1\" class=\"dataframe\">\n",
       "  <thead>\n",
       "    <tr style=\"text-align: right;\">\n",
       "      <th></th>\n",
       "      <th></th>\n",
       "      <th>cargo_metric_tons</th>\n",
       "    </tr>\n",
       "    <tr>\n",
       "      <th>Year</th>\n",
       "      <th>GEO</th>\n",
       "      <th></th>\n",
       "    </tr>\n",
       "  </thead>\n",
       "  <tbody>\n",
       "    <tr>\n",
       "      <th rowspan=\"2\" valign=\"top\">2005</th>\n",
       "      <th>Domestic</th>\n",
       "      <td>327.139630</td>\n",
       "    </tr>\n",
       "    <tr>\n",
       "      <th>International</th>\n",
       "      <td>212.998133</td>\n",
       "    </tr>\n",
       "    <tr>\n",
       "      <th rowspan=\"2\" valign=\"top\">2006</th>\n",
       "      <th>Domestic</th>\n",
       "      <td>356.612903</td>\n",
       "    </tr>\n",
       "    <tr>\n",
       "      <th>International</th>\n",
       "      <td>213.031196</td>\n",
       "    </tr>\n",
       "    <tr>\n",
       "      <th>2007</th>\n",
       "      <th>Domestic</th>\n",
       "      <td>318.341260</td>\n",
       "    </tr>\n",
       "  </tbody>\n",
       "</table>\n",
       "</div>"
      ],
      "text/plain": [
       "                    cargo_metric_tons\n",
       "Year GEO                             \n",
       "2005 Domestic              327.139630\n",
       "     International         212.998133\n",
       "2006 Domestic              356.612903\n",
       "     International         213.031196\n",
       "2007 Domestic              318.341260"
      ]
     },
     "execution_count": 55,
     "metadata": {},
     "output_type": "execute_result"
    }
   ],
   "source": [
    "dt_geo_mean = pd.DataFrame(dt_copy.groupby([dt_copy.year, dt_copy.geo_summary])['cargo_metric_tons'].mean())\n",
    "dt_geo_mean.index.set_names(['Year', 'GEO'], inplace = True)\n",
    "dt_geo_mean.head()"
   ]
  },
  {
   "cell_type": "code",
   "execution_count": 56,
   "metadata": {},
   "outputs": [
    {
     "data": {
      "image/png": "[encoded data removed]",
      "text/plain": [
       "<Figure size 432x288 with 1 Axes>"
      ]
     },
     "metadata": {
      "needs_background": "light"
     },
     "output_type": "display_data"
    }
   ],
   "source": [
    "dt_geo_mean.unstack().plot.bar(y='cargo_metric_tons', title='Domestic vs International flights', rot=45);"
   ]
  },
  {
   "cell_type": "markdown",
   "metadata": {},
   "source": [
    ">>> the average weights of cargo transported within the USA exceed the average weights of those transported in- or out-bound. That might be caused by high international transportation rates based on weight and dimensions of cargo. Supposedly, the major part of heavy cargo is delivered by other  transportation modes (sea, trucks, railway), not by air. The ratio of mean Domestic to mean International stays the same from 2012-2013. So, a strong influence of COVID-19 isn't seen in this chart."
   ]
  },
  {
   "cell_type": "markdown",
   "metadata": {},
   "source": [
    "### **Qty of operating airlines from year to year**<a id=\"ALQty\"></a>\n",
    "##### [back to Content](#content)"
   ]
  },
  {
   "cell_type": "code",
   "execution_count": 57,
   "metadata": {},
   "outputs": [],
   "source": [
    "i=2005\n",
    "my_list=[]\n",
    "def airl_year2(data):\n",
    "    for i in data['year'].unique():\n",
    "        my_list.append(len(data[(data['year']==i)]['operating_airline'].unique())),\n",
    "        i+=1\n",
    "    print(my_list)\n",
    "    return my_list  \n"
   ]
  },
  {
   "cell_type": "code",
   "execution_count": 58,
   "metadata": {},
   "outputs": [],
   "source": [
    "i=2005\n",
    "my_list_years=[]\n",
    "def airl_year1(data):\n",
    "    for i in data['year'].unique():\n",
    "        my_list_years.append(i),\n",
    "        i+=1\n",
    "    print(my_list_years)\n",
    "    return my_list_years   "
   ]
  },
  {
   "cell_type": "code",
   "execution_count": 59,
   "metadata": {},
   "outputs": [
    {
     "name": "stdout",
     "output_type": "stream",
     "text": [
      "[2005, 2006, 2007, 2008, 2009, 2010, 2011, 2012, 2013, 2014, 2015, 2016, 2017, 2018, 2019, 2020]\n"
     ]
    }
   ],
   "source": [
    "s_y=pd.Series(airl_year1(dt_copy))"
   ]
  },
  {
   "cell_type": "code",
   "execution_count": 60,
   "metadata": {},
   "outputs": [
    {
     "name": "stdout",
     "output_type": "stream",
     "text": [
      "[46, 47, 48, 47, 45, 49, 47, 45, 46, 47, 46, 47, 51, 53, 55, 53]\n"
     ]
    }
   ],
   "source": [
    "s_qty=pd.Series(airl_year2(dt_copy))"
   ]
  },
  {
   "cell_type": "code",
   "execution_count": 61,
   "metadata": {},
   "outputs": [
    {
     "data": {
      "text/html": [
       "<div>\n",
       "<style scoped>\n",
       "    .dataframe tbody tr th:only-of-type {\n",
       "        vertical-align: middle;\n",
       "    }\n",
       "\n",
       "    .dataframe tbody tr th {\n",
       "        vertical-align: top;\n",
       "    }\n",
       "\n",
       "    .dataframe thead th {\n",
       "        text-align: right;\n",
       "    }\n",
       "</style>\n",
       "<table border=\"1\" class=\"dataframe\">\n",
       "  <thead>\n",
       "    <tr style=\"text-align: right;\">\n",
       "      <th></th>\n",
       "      <th>Year</th>\n",
       "      <th>Qty_of_unique_airlines</th>\n",
       "    </tr>\n",
       "  </thead>\n",
       "  <tbody>\n",
       "    <tr>\n",
       "      <th>0</th>\n",
       "      <td>2005</td>\n",
       "      <td>46</td>\n",
       "    </tr>\n",
       "    <tr>\n",
       "      <th>1</th>\n",
       "      <td>2006</td>\n",
       "      <td>47</td>\n",
       "    </tr>\n",
       "    <tr>\n",
       "      <th>2</th>\n",
       "      <td>2007</td>\n",
       "      <td>48</td>\n",
       "    </tr>\n",
       "    <tr>\n",
       "      <th>3</th>\n",
       "      <td>2008</td>\n",
       "      <td>47</td>\n",
       "    </tr>\n",
       "    <tr>\n",
       "      <th>4</th>\n",
       "      <td>2009</td>\n",
       "      <td>45</td>\n",
       "    </tr>\n",
       "    <tr>\n",
       "      <th>5</th>\n",
       "      <td>2010</td>\n",
       "      <td>49</td>\n",
       "    </tr>\n",
       "    <tr>\n",
       "      <th>6</th>\n",
       "      <td>2011</td>\n",
       "      <td>47</td>\n",
       "    </tr>\n",
       "    <tr>\n",
       "      <th>7</th>\n",
       "      <td>2012</td>\n",
       "      <td>45</td>\n",
       "    </tr>\n",
       "    <tr>\n",
       "      <th>8</th>\n",
       "      <td>2013</td>\n",
       "      <td>46</td>\n",
       "    </tr>\n",
       "    <tr>\n",
       "      <th>9</th>\n",
       "      <td>2014</td>\n",
       "      <td>47</td>\n",
       "    </tr>\n",
       "    <tr>\n",
       "      <th>10</th>\n",
       "      <td>2015</td>\n",
       "      <td>46</td>\n",
       "    </tr>\n",
       "    <tr>\n",
       "      <th>11</th>\n",
       "      <td>2016</td>\n",
       "      <td>47</td>\n",
       "    </tr>\n",
       "    <tr>\n",
       "      <th>12</th>\n",
       "      <td>2017</td>\n",
       "      <td>51</td>\n",
       "    </tr>\n",
       "    <tr>\n",
       "      <th>13</th>\n",
       "      <td>2018</td>\n",
       "      <td>53</td>\n",
       "    </tr>\n",
       "    <tr>\n",
       "      <th>14</th>\n",
       "      <td>2019</td>\n",
       "      <td>55</td>\n",
       "    </tr>\n",
       "    <tr>\n",
       "      <th>15</th>\n",
       "      <td>2020</td>\n",
       "      <td>53</td>\n",
       "    </tr>\n",
       "  </tbody>\n",
       "</table>\n",
       "</div>"
      ],
      "text/plain": [
       "    Year  Qty_of_unique_airlines\n",
       "0   2005                      46\n",
       "1   2006                      47\n",
       "2   2007                      48\n",
       "3   2008                      47\n",
       "4   2009                      45\n",
       "5   2010                      49\n",
       "6   2011                      47\n",
       "7   2012                      45\n",
       "8   2013                      46\n",
       "9   2014                      47\n",
       "10  2015                      46\n",
       "11  2016                      47\n",
       "12  2017                      51\n",
       "13  2018                      53\n",
       "14  2019                      55\n",
       "15  2020                      53"
      ]
     },
     "execution_count": 61,
     "metadata": {},
     "output_type": "execute_result"
    }
   ],
   "source": [
    "data_Qty_airl = {'Year':s_y,\n",
    "                      'Qty_of_unique_airlines':s_qty}\n",
    "df_alltry = pd.DataFrame(data_Qty_airl)\n",
    "df_alltry"
   ]
  },
  {
   "cell_type": "code",
   "execution_count": 63,
   "metadata": {},
   "outputs": [
    {
     "data": {
      "image/png": "[encoded data removed]",
      "text/plain": [
       "<Figure size 432x288 with 1 Axes>"
      ]
     },
     "metadata": {
      "needs_background": "light"
     },
     "output_type": "display_data"
    }
   ],
   "source": [
    "df_alltry.plot.line(y='Qty_of_unique_airlines', x='Year', title='Qty_of_unique_airlines/year',color = 'r',\n",
    "         marker='h', \n",
    "         markersize=10, linewidth=2,\n",
    "         markerfacecolor='white');"
   ]
  },
  {
   "cell_type": "markdown",
   "metadata": {},
   "source": [
    ">>> There is no big difference in Qty of unique airlines operating in 2019 and 2020, so pandemic hadn't negative impact on this indicator of the sphere."
   ]
  },
  {
   "cell_type": "markdown",
   "metadata": {},
   "source": [
    "### **How Cargo types ratio changed throught years** <a id=\"cargotypes\"></a>\n",
    "##### [back to Content](#content)"
   ]
  },
  {
   "cell_type": "markdown",
   "metadata": {},
   "source": [
    "---\n",
    ">**Median weight per year**"
   ]
  },
  {
   "cell_type": "code",
   "execution_count": 64,
   "metadata": {},
   "outputs": [
    {
     "data": {
      "text/html": [
       "<div>\n",
       "<style scoped>\n",
       "    .dataframe tbody tr th:only-of-type {\n",
       "        vertical-align: middle;\n",
       "    }\n",
       "\n",
       "    .dataframe tbody tr th {\n",
       "        vertical-align: top;\n",
       "    }\n",
       "\n",
       "    .dataframe thead tr th {\n",
       "        text-align: left;\n",
       "    }\n",
       "\n",
       "    .dataframe thead tr:last-of-type th {\n",
       "        text-align: right;\n",
       "    }\n",
       "</style>\n",
       "<table border=\"1\" class=\"dataframe\">\n",
       "  <thead>\n",
       "    <tr>\n",
       "      <th>geo_summary</th>\n",
       "      <th colspan=\"3\" halign=\"left\">Domestic</th>\n",
       "      <th colspan=\"3\" halign=\"left\">International</th>\n",
       "    </tr>\n",
       "    <tr>\n",
       "      <th>cargo_type</th>\n",
       "      <th>Cargo</th>\n",
       "      <th>Express</th>\n",
       "      <th>Mail</th>\n",
       "      <th>Cargo</th>\n",
       "      <th>Express</th>\n",
       "      <th>Mail</th>\n",
       "    </tr>\n",
       "    <tr>\n",
       "      <th>year</th>\n",
       "      <th></th>\n",
       "      <th></th>\n",
       "      <th></th>\n",
       "      <th></th>\n",
       "      <th></th>\n",
       "      <th></th>\n",
       "    </tr>\n",
       "  </thead>\n",
       "  <tbody>\n",
       "    <tr>\n",
       "      <th>2005</th>\n",
       "      <td>94.619599</td>\n",
       "      <td>5.144504</td>\n",
       "      <td>74.307845</td>\n",
       "      <td>255.825864</td>\n",
       "      <td>10.116187</td>\n",
       "      <td>19.837289</td>\n",
       "    </tr>\n",
       "    <tr>\n",
       "      <th>2006</th>\n",
       "      <td>89.704843</td>\n",
       "      <td>4.263840</td>\n",
       "      <td>44.145259</td>\n",
       "      <td>269.071438</td>\n",
       "      <td>10.255896</td>\n",
       "      <td>19.554923</td>\n",
       "    </tr>\n",
       "    <tr>\n",
       "      <th>2007</th>\n",
       "      <td>83.789899</td>\n",
       "      <td>2.879453</td>\n",
       "      <td>29.985455</td>\n",
       "      <td>241.476228</td>\n",
       "      <td>10.468861</td>\n",
       "      <td>23.600808</td>\n",
       "    </tr>\n",
       "    <tr>\n",
       "      <th>2008</th>\n",
       "      <td>77.718917</td>\n",
       "      <td>2.031901</td>\n",
       "      <td>23.370379</td>\n",
       "      <td>185.287208</td>\n",
       "      <td>6.519139</td>\n",
       "      <td>18.893574</td>\n",
       "    </tr>\n",
       "    <tr>\n",
       "      <th>2009</th>\n",
       "      <td>51.322118</td>\n",
       "      <td>1.816214</td>\n",
       "      <td>46.431403</td>\n",
       "      <td>153.147834</td>\n",
       "      <td>5.596517</td>\n",
       "      <td>14.194051</td>\n",
       "    </tr>\n",
       "    <tr>\n",
       "      <th>2010</th>\n",
       "      <td>57.669343</td>\n",
       "      <td>1.400263</td>\n",
       "      <td>72.248047</td>\n",
       "      <td>187.571765</td>\n",
       "      <td>4.945828</td>\n",
       "      <td>11.817187</td>\n",
       "    </tr>\n",
       "    <tr>\n",
       "      <th>2011</th>\n",
       "      <td>66.974947</td>\n",
       "      <td>14.783051</td>\n",
       "      <td>97.738099</td>\n",
       "      <td>165.863376</td>\n",
       "      <td>6.392812</td>\n",
       "      <td>14.029394</td>\n",
       "    </tr>\n",
       "    <tr>\n",
       "      <th>2012</th>\n",
       "      <td>102.085628</td>\n",
       "      <td>13.864964</td>\n",
       "      <td>105.623028</td>\n",
       "      <td>147.158953</td>\n",
       "      <td>5.891810</td>\n",
       "      <td>12.842323</td>\n",
       "    </tr>\n",
       "    <tr>\n",
       "      <th>2013</th>\n",
       "      <td>128.112516</td>\n",
       "      <td>16.828787</td>\n",
       "      <td>149.585940</td>\n",
       "      <td>147.240601</td>\n",
       "      <td>4.523526</td>\n",
       "      <td>11.281032</td>\n",
       "    </tr>\n",
       "    <tr>\n",
       "      <th>2014</th>\n",
       "      <td>144.460260</td>\n",
       "      <td>32.893031</td>\n",
       "      <td>102.321954</td>\n",
       "      <td>175.237474</td>\n",
       "      <td>2.021242</td>\n",
       "      <td>12.659296</td>\n",
       "    </tr>\n",
       "    <tr>\n",
       "      <th>2015</th>\n",
       "      <td>139.700635</td>\n",
       "      <td>35.457912</td>\n",
       "      <td>97.186295</td>\n",
       "      <td>161.300160</td>\n",
       "      <td>1.182989</td>\n",
       "      <td>18.418655</td>\n",
       "    </tr>\n",
       "    <tr>\n",
       "      <th>2016</th>\n",
       "      <td>142.955442</td>\n",
       "      <td>17.355870</td>\n",
       "      <td>112.584881</td>\n",
       "      <td>163.354061</td>\n",
       "      <td>2.067055</td>\n",
       "      <td>21.527629</td>\n",
       "    </tr>\n",
       "    <tr>\n",
       "      <th>2017</th>\n",
       "      <td>138.499502</td>\n",
       "      <td>2.298618</td>\n",
       "      <td>88.955723</td>\n",
       "      <td>204.630300</td>\n",
       "      <td>1.883801</td>\n",
       "      <td>21.664390</td>\n",
       "    </tr>\n",
       "    <tr>\n",
       "      <th>2018</th>\n",
       "      <td>156.420104</td>\n",
       "      <td>2.244866</td>\n",
       "      <td>99.321617</td>\n",
       "      <td>205.398698</td>\n",
       "      <td>1.690340</td>\n",
       "      <td>22.957376</td>\n",
       "    </tr>\n",
       "    <tr>\n",
       "      <th>2019</th>\n",
       "      <td>123.546125</td>\n",
       "      <td>1.664485</td>\n",
       "      <td>57.005273</td>\n",
       "      <td>165.196584</td>\n",
       "      <td>1.595311</td>\n",
       "      <td>21.514248</td>\n",
       "    </tr>\n",
       "    <tr>\n",
       "      <th>2020</th>\n",
       "      <td>110.929014</td>\n",
       "      <td>1.905800</td>\n",
       "      <td>69.284452</td>\n",
       "      <td>156.526247</td>\n",
       "      <td>1.616177</td>\n",
       "      <td>18.592157</td>\n",
       "    </tr>\n",
       "  </tbody>\n",
       "</table>\n",
       "</div>"
      ],
      "text/plain": [
       "geo_summary    Domestic                        International             \\\n",
       "cargo_type        Cargo    Express        Mail         Cargo    Express   \n",
       "year                                                                      \n",
       "2005          94.619599   5.144504   74.307845    255.825864  10.116187   \n",
       "2006          89.704843   4.263840   44.145259    269.071438  10.255896   \n",
       "2007          83.789899   2.879453   29.985455    241.476228  10.468861   \n",
       "2008          77.718917   2.031901   23.370379    185.287208   6.519139   \n",
       "2009          51.322118   1.816214   46.431403    153.147834   5.596517   \n",
       "2010          57.669343   1.400263   72.248047    187.571765   4.945828   \n",
       "2011          66.974947  14.783051   97.738099    165.863376   6.392812   \n",
       "2012         102.085628  13.864964  105.623028    147.158953   5.891810   \n",
       "2013         128.112516  16.828787  149.585940    147.240601   4.523526   \n",
       "2014         144.460260  32.893031  102.321954    175.237474   2.021242   \n",
       "2015         139.700635  35.457912   97.186295    161.300160   1.182989   \n",
       "2016         142.955442  17.355870  112.584881    163.354061   2.067055   \n",
       "2017         138.499502   2.298618   88.955723    204.630300   1.883801   \n",
       "2018         156.420104   2.244866   99.321617    205.398698   1.690340   \n",
       "2019         123.546125   1.664485   57.005273    165.196584   1.595311   \n",
       "2020         110.929014   1.905800   69.284452    156.526247   1.616177   \n",
       "\n",
       "geo_summary             \n",
       "cargo_type        Mail  \n",
       "year                    \n",
       "2005         19.837289  \n",
       "2006         19.554923  \n",
       "2007         23.600808  \n",
       "2008         18.893574  \n",
       "2009         14.194051  \n",
       "2010         11.817187  \n",
       "2011         14.029394  \n",
       "2012         12.842323  \n",
       "2013         11.281032  \n",
       "2014         12.659296  \n",
       "2015         18.418655  \n",
       "2016         21.527629  \n",
       "2017         21.664390  \n",
       "2018         22.957376  \n",
       "2019         21.514248  \n",
       "2020         18.592157  "
      ]
     },
     "execution_count": 64,
     "metadata": {},
     "output_type": "execute_result"
    }
   ],
   "source": [
    "Cargo_DomInt = pd.pivot_table(dt_copy, values='cargo_metric_tons', index=['year'], columns=['geo_summary','cargo_type'], aggfunc=np.median)\n",
    "Cargo_DomInt.fillna(0)"
   ]
  },
  {
   "cell_type": "markdown",
   "metadata": {},
   "source": [
    "----\n",
    ">**Cargo types in Domestic flights**"
   ]
  },
  {
   "cell_type": "code",
   "execution_count": 65,
   "metadata": {},
   "outputs": [],
   "source": [
    "dt_Domestic=dt_copy.loc[dt_copy['geo_summary']=='Domestic']"
   ]
  },
  {
   "cell_type": "code",
   "execution_count": 66,
   "metadata": {},
   "outputs": [
    {
     "data": {
      "text/html": [
       "<div>\n",
       "<style scoped>\n",
       "    .dataframe tbody tr th:only-of-type {\n",
       "        vertical-align: middle;\n",
       "    }\n",
       "\n",
       "    .dataframe tbody tr th {\n",
       "        vertical-align: top;\n",
       "    }\n",
       "\n",
       "    .dataframe thead th {\n",
       "        text-align: right;\n",
       "    }\n",
       "</style>\n",
       "<table border=\"1\" class=\"dataframe\">\n",
       "  <thead>\n",
       "    <tr style=\"text-align: right;\">\n",
       "      <th></th>\n",
       "      <th>activity_period</th>\n",
       "      <th>operating_airline</th>\n",
       "      <th>operating_airline_iata</th>\n",
       "      <th>published_airline</th>\n",
       "      <th>published_airline_iata</th>\n",
       "      <th>geo_summary</th>\n",
       "      <th>geo_region</th>\n",
       "      <th>activity_type</th>\n",
       "      <th>cargo_type</th>\n",
       "      <th>cargo_aircraft_type</th>\n",
       "      <th>cargo_weight_lbs</th>\n",
       "      <th>cargo_metric_tons</th>\n",
       "      <th>date</th>\n",
       "      <th>starred_iata</th>\n",
       "      <th>year</th>\n",
       "    </tr>\n",
       "  </thead>\n",
       "  <tbody>\n",
       "    <tr>\n",
       "      <th>0</th>\n",
       "      <td>200507</td>\n",
       "      <td>ABX Air</td>\n",
       "      <td>GB</td>\n",
       "      <td>ABX Air</td>\n",
       "      <td>GB</td>\n",
       "      <td>Domestic</td>\n",
       "      <td>US</td>\n",
       "      <td>Deplaned</td>\n",
       "      <td>Cargo</td>\n",
       "      <td>Freighter</td>\n",
       "      <td>45423</td>\n",
       "      <td>20.603873</td>\n",
       "      <td>2005-07-01</td>\n",
       "      <td>N</td>\n",
       "      <td>2005</td>\n",
       "    </tr>\n",
       "    <tr>\n",
       "      <th>1</th>\n",
       "      <td>200507</td>\n",
       "      <td>ABX Air</td>\n",
       "      <td>GB</td>\n",
       "      <td>ABX Air</td>\n",
       "      <td>GB</td>\n",
       "      <td>Domestic</td>\n",
       "      <td>US</td>\n",
       "      <td>Enplaned</td>\n",
       "      <td>Cargo</td>\n",
       "      <td>Freighter</td>\n",
       "      <td>106869</td>\n",
       "      <td>48.475778</td>\n",
       "      <td>2005-07-01</td>\n",
       "      <td>N</td>\n",
       "      <td>2005</td>\n",
       "    </tr>\n",
       "  </tbody>\n",
       "</table>\n",
       "</div>"
      ],
      "text/plain": [
       "   activity_period operating_airline operating_airline_iata published_airline  \\\n",
       "0           200507           ABX Air                     GB           ABX Air   \n",
       "1           200507           ABX Air                     GB           ABX Air   \n",
       "\n",
       "  published_airline_iata geo_summary geo_region activity_type cargo_type  \\\n",
       "0                     GB    Domestic         US      Deplaned      Cargo   \n",
       "1                     GB    Domestic         US      Enplaned      Cargo   \n",
       "\n",
       "  cargo_aircraft_type  cargo_weight_lbs  cargo_metric_tons       date  \\\n",
       "0           Freighter             45423          20.603873 2005-07-01   \n",
       "1           Freighter            106869          48.475778 2005-07-01   \n",
       "\n",
       "  starred_iata  year  \n",
       "0            N  2005  \n",
       "1            N  2005  "
      ]
     },
     "execution_count": 66,
     "metadata": {},
     "output_type": "execute_result"
    }
   ],
   "source": [
    "dt_Domestic.head(2)"
   ]
  },
  {
   "cell_type": "code",
   "execution_count": 67,
   "metadata": {},
   "outputs": [
    {
     "data": {
      "text/html": [
       "<div>\n",
       "<style scoped>\n",
       "    .dataframe tbody tr th:only-of-type {\n",
       "        vertical-align: middle;\n",
       "    }\n",
       "\n",
       "    .dataframe tbody tr th {\n",
       "        vertical-align: top;\n",
       "    }\n",
       "\n",
       "    .dataframe thead th {\n",
       "        text-align: right;\n",
       "    }\n",
       "</style>\n",
       "<table border=\"1\" class=\"dataframe\">\n",
       "  <thead>\n",
       "    <tr style=\"text-align: right;\">\n",
       "      <th></th>\n",
       "      <th></th>\n",
       "      <th></th>\n",
       "      <th>cargo_metric_tons</th>\n",
       "    </tr>\n",
       "    <tr>\n",
       "      <th>Year</th>\n",
       "      <th>GEO</th>\n",
       "      <th>Cargo_type</th>\n",
       "      <th></th>\n",
       "    </tr>\n",
       "  </thead>\n",
       "  <tbody>\n",
       "    <tr>\n",
       "      <th rowspan=\"3\" valign=\"top\">2005</th>\n",
       "      <th rowspan=\"3\" valign=\"top\">Domestic</th>\n",
       "      <th>Cargo</th>\n",
       "      <td>256</td>\n",
       "    </tr>\n",
       "    <tr>\n",
       "      <th>Express</th>\n",
       "      <td>60</td>\n",
       "    </tr>\n",
       "    <tr>\n",
       "      <th>Mail</th>\n",
       "      <td>116</td>\n",
       "    </tr>\n",
       "    <tr>\n",
       "      <th rowspan=\"2\" valign=\"top\">2006</th>\n",
       "      <th rowspan=\"2\" valign=\"top\">Domestic</th>\n",
       "      <th>Cargo</th>\n",
       "      <td>468</td>\n",
       "    </tr>\n",
       "    <tr>\n",
       "      <th>Express</th>\n",
       "      <td>110</td>\n",
       "    </tr>\n",
       "  </tbody>\n",
       "</table>\n",
       "</div>"
      ],
      "text/plain": [
       "                          cargo_metric_tons\n",
       "Year GEO      Cargo_type                   \n",
       "2005 Domestic Cargo                     256\n",
       "              Express                    60\n",
       "              Mail                      116\n",
       "2006 Domestic Cargo                     468\n",
       "              Express                   110"
      ]
     },
     "execution_count": 67,
     "metadata": {},
     "output_type": "execute_result"
    }
   ],
   "source": [
    "dt_Dom_cargo = pd.DataFrame(dt_copy.groupby([dt_copy.year, dt_Domestic.geo_summary,dt_copy.cargo_type])['cargo_metric_tons'].count())\n",
    "dt_Dom_cargo.index.set_names(['Year', 'GEO','Cargo_type'], inplace = True)\n",
    "dt_Dom_cargo.head()"
   ]
  },
  {
   "cell_type": "code",
   "execution_count": 68,
   "metadata": {},
   "outputs": [
    {
     "data": {
      "image/png": "[encoded data removed]",
      "text/plain": [
       "<Figure size 432x288 with 1 Axes>"
      ]
     },
     "metadata": {
      "needs_background": "light"
     },
     "output_type": "display_data"
    }
   ],
   "source": [
    "dt_Dom_cargo.unstack().plot.line(y='cargo_metric_tons', title='Domestic flights', rot=90);"
   ]
  },
  {
   "cell_type": "markdown",
   "metadata": {},
   "source": [
    "----\n",
    ">**Cargo types in International flights**"
   ]
  },
  {
   "cell_type": "code",
   "execution_count": 69,
   "metadata": {},
   "outputs": [],
   "source": [
    "dt_Int=dt_copy.loc[dt_copy['geo_summary']=='International']"
   ]
  },
  {
   "cell_type": "code",
   "execution_count": 70,
   "metadata": {},
   "outputs": [
    {
     "data": {
      "text/html": [
       "<div>\n",
       "<style scoped>\n",
       "    .dataframe tbody tr th:only-of-type {\n",
       "        vertical-align: middle;\n",
       "    }\n",
       "\n",
       "    .dataframe tbody tr th {\n",
       "        vertical-align: top;\n",
       "    }\n",
       "\n",
       "    .dataframe thead th {\n",
       "        text-align: right;\n",
       "    }\n",
       "</style>\n",
       "<table border=\"1\" class=\"dataframe\">\n",
       "  <thead>\n",
       "    <tr style=\"text-align: right;\">\n",
       "      <th></th>\n",
       "      <th>activity_period</th>\n",
       "      <th>operating_airline</th>\n",
       "      <th>operating_airline_iata</th>\n",
       "      <th>published_airline</th>\n",
       "      <th>published_airline_iata</th>\n",
       "      <th>geo_summary</th>\n",
       "      <th>geo_region</th>\n",
       "      <th>activity_type</th>\n",
       "      <th>cargo_type</th>\n",
       "      <th>cargo_aircraft_type</th>\n",
       "      <th>cargo_weight_lbs</th>\n",
       "      <th>cargo_metric_tons</th>\n",
       "      <th>date</th>\n",
       "      <th>starred_iata</th>\n",
       "      <th>year</th>\n",
       "    </tr>\n",
       "  </thead>\n",
       "  <tbody>\n",
       "    <tr>\n",
       "      <th>6</th>\n",
       "      <td>200507</td>\n",
       "      <td>Air Canada</td>\n",
       "      <td>AC</td>\n",
       "      <td>Air Canada</td>\n",
       "      <td>AC</td>\n",
       "      <td>International</td>\n",
       "      <td>Canada</td>\n",
       "      <td>Deplaned</td>\n",
       "      <td>Cargo</td>\n",
       "      <td>Passenger</td>\n",
       "      <td>47025</td>\n",
       "      <td>21.330540</td>\n",
       "      <td>2005-07-01</td>\n",
       "      <td>N</td>\n",
       "      <td>2005</td>\n",
       "    </tr>\n",
       "    <tr>\n",
       "      <th>7</th>\n",
       "      <td>200507</td>\n",
       "      <td>Air Canada</td>\n",
       "      <td>AC</td>\n",
       "      <td>Air Canada</td>\n",
       "      <td>AC</td>\n",
       "      <td>International</td>\n",
       "      <td>Canada</td>\n",
       "      <td>Deplaned</td>\n",
       "      <td>Express</td>\n",
       "      <td>Passenger</td>\n",
       "      <td>7234</td>\n",
       "      <td>3.281342</td>\n",
       "      <td>2005-07-01</td>\n",
       "      <td>N</td>\n",
       "      <td>2005</td>\n",
       "    </tr>\n",
       "  </tbody>\n",
       "</table>\n",
       "</div>"
      ],
      "text/plain": [
       "   activity_period operating_airline operating_airline_iata published_airline  \\\n",
       "6           200507        Air Canada                     AC        Air Canada   \n",
       "7           200507        Air Canada                     AC        Air Canada   \n",
       "\n",
       "  published_airline_iata    geo_summary geo_region activity_type cargo_type  \\\n",
       "6                     AC  International     Canada      Deplaned      Cargo   \n",
       "7                     AC  International     Canada      Deplaned    Express   \n",
       "\n",
       "  cargo_aircraft_type  cargo_weight_lbs  cargo_metric_tons       date  \\\n",
       "6           Passenger             47025          21.330540 2005-07-01   \n",
       "7           Passenger              7234           3.281342 2005-07-01   \n",
       "\n",
       "  starred_iata  year  \n",
       "6            N  2005  \n",
       "7            N  2005  "
      ]
     },
     "execution_count": 70,
     "metadata": {},
     "output_type": "execute_result"
    }
   ],
   "source": [
    "dt_Int.head(2)"
   ]
  },
  {
   "cell_type": "code",
   "execution_count": 73,
   "metadata": {},
   "outputs": [
    {
     "data": {
      "text/html": [
       "<div>\n",
       "<style scoped>\n",
       "    .dataframe tbody tr th:only-of-type {\n",
       "        vertical-align: middle;\n",
       "    }\n",
       "\n",
       "    .dataframe tbody tr th {\n",
       "        vertical-align: top;\n",
       "    }\n",
       "\n",
       "    .dataframe thead th {\n",
       "        text-align: right;\n",
       "    }\n",
       "</style>\n",
       "<table border=\"1\" class=\"dataframe\">\n",
       "  <thead>\n",
       "    <tr style=\"text-align: right;\">\n",
       "      <th></th>\n",
       "      <th></th>\n",
       "      <th></th>\n",
       "      <th>cargo_metric_tons</th>\n",
       "    </tr>\n",
       "    <tr>\n",
       "      <th>Year</th>\n",
       "      <th>GEO</th>\n",
       "      <th>Cargo_type</th>\n",
       "      <th></th>\n",
       "    </tr>\n",
       "  </thead>\n",
       "  <tbody>\n",
       "    <tr>\n",
       "      <th rowspan=\"3\" valign=\"top\">2005</th>\n",
       "      <th rowspan=\"3\" valign=\"top\">International</th>\n",
       "      <th>Cargo</th>\n",
       "      <td>371</td>\n",
       "    </tr>\n",
       "    <tr>\n",
       "      <th>Express</th>\n",
       "      <td>92</td>\n",
       "    </tr>\n",
       "    <tr>\n",
       "      <th>Mail</th>\n",
       "      <td>263</td>\n",
       "    </tr>\n",
       "    <tr>\n",
       "      <th rowspan=\"2\" valign=\"top\">2006</th>\n",
       "      <th rowspan=\"2\" valign=\"top\">International</th>\n",
       "      <th>Cargo</th>\n",
       "      <td>746</td>\n",
       "    </tr>\n",
       "    <tr>\n",
       "      <th>Express</th>\n",
       "      <td>183</td>\n",
       "    </tr>\n",
       "  </tbody>\n",
       "</table>\n",
       "</div>"
      ],
      "text/plain": [
       "                               cargo_metric_tons\n",
       "Year GEO           Cargo_type                   \n",
       "2005 International Cargo                     371\n",
       "                   Express                    92\n",
       "                   Mail                      263\n",
       "2006 International Cargo                     746\n",
       "                   Express                   183"
      ]
     },
     "execution_count": 73,
     "metadata": {},
     "output_type": "execute_result"
    }
   ],
   "source": [
    "dt_Int_cargo = pd.DataFrame(dt_copy.groupby([dt_copy.year, dt_Int.geo_summary,dt_copy.cargo_type])['cargo_metric_tons'].count())\n",
    "dt_Int_cargo.index.set_names(['Year', 'GEO','Cargo_type'], inplace = True)\n",
    "dt_Int_cargo.head()"
   ]
  },
  {
   "cell_type": "code",
   "execution_count": 74,
   "metadata": {},
   "outputs": [
    {
     "data": {
      "image/png": "[encoded data removed]",
      "text/plain": [
       "<Figure size 432x288 with 1 Axes>"
      ]
     },
     "metadata": {
      "needs_background": "light"
     },
     "output_type": "display_data"
    }
   ],
   "source": [
    "dt_Int_cargo.unstack().plot.line(y='cargo_metric_tons', title='International flights', rot=90);"
   ]
  },
  {
   "cell_type": "markdown",
   "metadata": {},
   "source": [
    "### **Geo Regions and cargo weights** <a id=\"GeoRegions\"></a>\n",
    "##### [back to Content](#content)"
   ]
  },
  {
   "cell_type": "code",
   "execution_count": 75,
   "metadata": {},
   "outputs": [
    {
     "data": {
      "text/plain": [
       "Asia                   12610\n",
       "US                      9229\n",
       "Europe                  5824\n",
       "Australia / Oceania     2165\n",
       "Canada                  1833\n",
       "Mexico                  1110\n",
       "Middle East              692\n",
       "Central America          479\n",
       "South America             95\n",
       "Name: geo_region, dtype: int64"
      ]
     },
     "execution_count": 75,
     "metadata": {},
     "output_type": "execute_result"
    }
   ],
   "source": [
    "dt_copy.geo_region.value_counts()"
   ]
  },
  {
   "cell_type": "code",
   "execution_count": 76,
   "metadata": {},
   "outputs": [
    {
     "data": {
      "text/html": [
       "<div>\n",
       "<style scoped>\n",
       "    .dataframe tbody tr th:only-of-type {\n",
       "        vertical-align: middle;\n",
       "    }\n",
       "\n",
       "    .dataframe tbody tr th {\n",
       "        vertical-align: top;\n",
       "    }\n",
       "\n",
       "    .dataframe thead th {\n",
       "        text-align: right;\n",
       "    }\n",
       "</style>\n",
       "<table border=\"1\" class=\"dataframe\">\n",
       "  <thead>\n",
       "    <tr style=\"text-align: right;\">\n",
       "      <th>geo_region</th>\n",
       "      <th>Asia</th>\n",
       "      <th>Australia / Oceania</th>\n",
       "      <th>Canada</th>\n",
       "      <th>Central America</th>\n",
       "      <th>Europe</th>\n",
       "      <th>Mexico</th>\n",
       "      <th>Middle East</th>\n",
       "      <th>South America</th>\n",
       "      <th>US</th>\n",
       "    </tr>\n",
       "    <tr>\n",
       "      <th>year</th>\n",
       "      <th></th>\n",
       "      <th></th>\n",
       "      <th></th>\n",
       "      <th></th>\n",
       "      <th></th>\n",
       "      <th></th>\n",
       "      <th></th>\n",
       "      <th></th>\n",
       "      <th></th>\n",
       "    </tr>\n",
       "  </thead>\n",
       "  <tbody>\n",
       "    <tr>\n",
       "      <th>2005</th>\n",
       "      <td>114917.766921</td>\n",
       "      <td>4163.886065</td>\n",
       "      <td>1214.254541</td>\n",
       "      <td>50.340074</td>\n",
       "      <td>33903.553622</td>\n",
       "      <td>386.843234</td>\n",
       "      <td>0.000000</td>\n",
       "      <td>0.000000</td>\n",
       "      <td>141324.319988</td>\n",
       "    </tr>\n",
       "    <tr>\n",
       "      <th>2006</th>\n",
       "      <td>236623.024615</td>\n",
       "      <td>11344.055638</td>\n",
       "      <td>2749.520441</td>\n",
       "      <td>47.058732</td>\n",
       "      <td>66926.153902</td>\n",
       "      <td>791.825026</td>\n",
       "      <td>0.000000</td>\n",
       "      <td>0.000000</td>\n",
       "      <td>276374.999524</td>\n",
       "    </tr>\n",
       "    <tr>\n",
       "      <th>2007</th>\n",
       "      <td>237699.467764</td>\n",
       "      <td>13475.874485</td>\n",
       "      <td>2527.047331</td>\n",
       "      <td>59.119502</td>\n",
       "      <td>67814.241919</td>\n",
       "      <td>691.295018</td>\n",
       "      <td>0.000000</td>\n",
       "      <td>0.000000</td>\n",
       "      <td>240665.992711</td>\n",
       "    </tr>\n",
       "    <tr>\n",
       "      <th>2008</th>\n",
       "      <td>211200.411593</td>\n",
       "      <td>13086.294682</td>\n",
       "      <td>1804.589086</td>\n",
       "      <td>42.577164</td>\n",
       "      <td>60132.272810</td>\n",
       "      <td>610.668526</td>\n",
       "      <td>62.785498</td>\n",
       "      <td>0.000000</td>\n",
       "      <td>205210.596377</td>\n",
       "    </tr>\n",
       "    <tr>\n",
       "      <th>2009</th>\n",
       "      <td>181012.477465</td>\n",
       "      <td>9857.927318</td>\n",
       "      <td>934.021822</td>\n",
       "      <td>14.486170</td>\n",
       "      <td>46049.279220</td>\n",
       "      <td>877.873399</td>\n",
       "      <td>3501.706270</td>\n",
       "      <td>0.000000</td>\n",
       "      <td>165854.648283</td>\n",
       "    </tr>\n",
       "    <tr>\n",
       "      <th>2010</th>\n",
       "      <td>206844.118386</td>\n",
       "      <td>11239.707226</td>\n",
       "      <td>1045.008670</td>\n",
       "      <td>16.968722</td>\n",
       "      <td>52706.970994</td>\n",
       "      <td>835.154712</td>\n",
       "      <td>2644.607750</td>\n",
       "      <td>1973.626301</td>\n",
       "      <td>149418.197359</td>\n",
       "    </tr>\n",
       "    <tr>\n",
       "      <th>2011</th>\n",
       "      <td>177470.716045</td>\n",
       "      <td>8425.966550</td>\n",
       "      <td>754.760462</td>\n",
       "      <td>21.895272</td>\n",
       "      <td>50421.032021</td>\n",
       "      <td>813.461292</td>\n",
       "      <td>1918.735711</td>\n",
       "      <td>3235.602737</td>\n",
       "      <td>138956.318421</td>\n",
       "    </tr>\n",
       "    <tr>\n",
       "      <th>2012</th>\n",
       "      <td>164676.208184</td>\n",
       "      <td>7505.633923</td>\n",
       "      <td>753.239088</td>\n",
       "      <td>63.318024</td>\n",
       "      <td>48496.528332</td>\n",
       "      <td>655.295054</td>\n",
       "      <td>1672.820554</td>\n",
       "      <td>3089.305850</td>\n",
       "      <td>153877.664606</td>\n",
       "    </tr>\n",
       "    <tr>\n",
       "      <th>2013</th>\n",
       "      <td>163921.376956</td>\n",
       "      <td>6763.360162</td>\n",
       "      <td>631.447488</td>\n",
       "      <td>87.020438</td>\n",
       "      <td>50583.536942</td>\n",
       "      <td>572.498086</td>\n",
       "      <td>1473.461539</td>\n",
       "      <td>2999.096150</td>\n",
       "      <td>136761.758081</td>\n",
       "    </tr>\n",
       "    <tr>\n",
       "      <th>2014</th>\n",
       "      <td>179305.025004</td>\n",
       "      <td>9147.335249</td>\n",
       "      <td>658.416276</td>\n",
       "      <td>108.321041</td>\n",
       "      <td>56838.527172</td>\n",
       "      <td>552.821371</td>\n",
       "      <td>1460.043144</td>\n",
       "      <td>644.575126</td>\n",
       "      <td>151899.480078</td>\n",
       "    </tr>\n",
       "    <tr>\n",
       "      <th>2015</th>\n",
       "      <td>196458.324502</td>\n",
       "      <td>9047.813141</td>\n",
       "      <td>1529.585921</td>\n",
       "      <td>103.394491</td>\n",
       "      <td>61331.241938</td>\n",
       "      <td>798.170436</td>\n",
       "      <td>4809.413750</td>\n",
       "      <td>0.000000</td>\n",
       "      <td>185389.597714</td>\n",
       "    </tr>\n",
       "    <tr>\n",
       "      <th>2016</th>\n",
       "      <td>201243.178536</td>\n",
       "      <td>11427.218662</td>\n",
       "      <td>1627.329463</td>\n",
       "      <td>100.455617</td>\n",
       "      <td>69717.240886</td>\n",
       "      <td>590.221145</td>\n",
       "      <td>6342.577668</td>\n",
       "      <td>0.000000</td>\n",
       "      <td>192182.457751</td>\n",
       "    </tr>\n",
       "    <tr>\n",
       "      <th>2017</th>\n",
       "      <td>237808.182074</td>\n",
       "      <td>14904.759845</td>\n",
       "      <td>2055.081974</td>\n",
       "      <td>80.256809</td>\n",
       "      <td>80172.567116</td>\n",
       "      <td>582.524460</td>\n",
       "      <td>7737.092849</td>\n",
       "      <td>235.679674</td>\n",
       "      <td>218229.735125</td>\n",
       "    </tr>\n",
       "    <tr>\n",
       "      <th>2018</th>\n",
       "      <td>249929.683164</td>\n",
       "      <td>15637.387349</td>\n",
       "      <td>2867.191538</td>\n",
       "      <td>121.624222</td>\n",
       "      <td>86058.828626</td>\n",
       "      <td>823.307134</td>\n",
       "      <td>9307.573531</td>\n",
       "      <td>0.000000</td>\n",
       "      <td>206609.727390</td>\n",
       "    </tr>\n",
       "    <tr>\n",
       "      <th>2019</th>\n",
       "      <td>243972.265422</td>\n",
       "      <td>18193.509533</td>\n",
       "      <td>3124.446696</td>\n",
       "      <td>195.877634</td>\n",
       "      <td>81544.361472</td>\n",
       "      <td>526.990666</td>\n",
       "      <td>8229.149057</td>\n",
       "      <td>0.000000</td>\n",
       "      <td>190650.378849</td>\n",
       "    </tr>\n",
       "    <tr>\n",
       "      <th>2020</th>\n",
       "      <td>164886.260365</td>\n",
       "      <td>25302.176777</td>\n",
       "      <td>858.506494</td>\n",
       "      <td>63.582926</td>\n",
       "      <td>47630.176827</td>\n",
       "      <td>292.388292</td>\n",
       "      <td>4047.377544</td>\n",
       "      <td>0.000000</td>\n",
       "      <td>196277.971328</td>\n",
       "    </tr>\n",
       "  </tbody>\n",
       "</table>\n",
       "</div>"
      ],
      "text/plain": [
       "geo_region           Asia  Australia / Oceania       Canada  Central America  \\\n",
       "year                                                                           \n",
       "2005        114917.766921          4163.886065  1214.254541        50.340074   \n",
       "2006        236623.024615         11344.055638  2749.520441        47.058732   \n",
       "2007        237699.467764         13475.874485  2527.047331        59.119502   \n",
       "2008        211200.411593         13086.294682  1804.589086        42.577164   \n",
       "2009        181012.477465          9857.927318   934.021822        14.486170   \n",
       "2010        206844.118386         11239.707226  1045.008670        16.968722   \n",
       "2011        177470.716045          8425.966550   754.760462        21.895272   \n",
       "2012        164676.208184          7505.633923   753.239088        63.318024   \n",
       "2013        163921.376956          6763.360162   631.447488        87.020438   \n",
       "2014        179305.025004          9147.335249   658.416276       108.321041   \n",
       "2015        196458.324502          9047.813141  1529.585921       103.394491   \n",
       "2016        201243.178536         11427.218662  1627.329463       100.455617   \n",
       "2017        237808.182074         14904.759845  2055.081974        80.256809   \n",
       "2018        249929.683164         15637.387349  2867.191538       121.624222   \n",
       "2019        243972.265422         18193.509533  3124.446696       195.877634   \n",
       "2020        164886.260365         25302.176777   858.506494        63.582926   \n",
       "\n",
       "geo_region        Europe      Mexico  Middle East  South America  \\\n",
       "year                                                               \n",
       "2005        33903.553622  386.843234     0.000000       0.000000   \n",
       "2006        66926.153902  791.825026     0.000000       0.000000   \n",
       "2007        67814.241919  691.295018     0.000000       0.000000   \n",
       "2008        60132.272810  610.668526    62.785498       0.000000   \n",
       "2009        46049.279220  877.873399  3501.706270       0.000000   \n",
       "2010        52706.970994  835.154712  2644.607750    1973.626301   \n",
       "2011        50421.032021  813.461292  1918.735711    3235.602737   \n",
       "2012        48496.528332  655.295054  1672.820554    3089.305850   \n",
       "2013        50583.536942  572.498086  1473.461539    2999.096150   \n",
       "2014        56838.527172  552.821371  1460.043144     644.575126   \n",
       "2015        61331.241938  798.170436  4809.413750       0.000000   \n",
       "2016        69717.240886  590.221145  6342.577668       0.000000   \n",
       "2017        80172.567116  582.524460  7737.092849     235.679674   \n",
       "2018        86058.828626  823.307134  9307.573531       0.000000   \n",
       "2019        81544.361472  526.990666  8229.149057       0.000000   \n",
       "2020        47630.176827  292.388292  4047.377544       0.000000   \n",
       "\n",
       "geo_region             US  \n",
       "year                       \n",
       "2005        141324.319988  \n",
       "2006        276374.999524  \n",
       "2007        240665.992711  \n",
       "2008        205210.596377  \n",
       "2009        165854.648283  \n",
       "2010        149418.197359  \n",
       "2011        138956.318421  \n",
       "2012        153877.664606  \n",
       "2013        136761.758081  \n",
       "2014        151899.480078  \n",
       "2015        185389.597714  \n",
       "2016        192182.457751  \n",
       "2017        218229.735125  \n",
       "2018        206609.727390  \n",
       "2019        190650.378849  \n",
       "2020        196277.971328  "
      ]
     },
     "execution_count": 76,
     "metadata": {},
     "output_type": "execute_result"
    }
   ],
   "source": [
    "Cargo_GEO = pd.pivot_table(dt_copy, values='cargo_metric_tons', index=['year'], columns=['geo_region'], aggfunc=np.sum)\n",
    "Cargo_GEO.fillna(0)"
   ]
  },
  {
   "cell_type": "code",
   "execution_count": 77,
   "metadata": {},
   "outputs": [
    {
     "data": {
      "image/png": "[encoded data removed]",
      "text/plain": [
       "<Figure size 1152x360 with 2 Axes>"
      ]
     },
     "metadata": {
      "needs_background": "light"
     },
     "output_type": "display_data"
    }
   ],
   "source": [
    "plt.figure(figsize=(16,5))\n",
    "sns.heatmap(Cargo_GEO, annot=True, \n",
    "                fmt='g', cmap='YlGnBu') \n",
    "plt.show()"
   ]
  },
  {
   "cell_type": "markdown",
   "metadata": {},
   "source": [
    "### **Import vs Export** <a id=\"ImpExp\"></a>\n",
    "\n",
    "##### [back to Content](#content)"
   ]
  },
  {
   "cell_type": "code",
   "execution_count": 78,
   "metadata": {},
   "outputs": [
    {
     "data": {
      "text/plain": [
       "geo_region\n",
       "Asia                   [Deplaned, Enplaned]\n",
       "Australia / Oceania    [Deplaned, Enplaned]\n",
       "Canada                 [Deplaned, Enplaned]\n",
       "Central America        [Deplaned, Enplaned]\n",
       "Europe                 [Deplaned, Enplaned]\n",
       "Mexico                 [Deplaned, Enplaned]\n",
       "Middle East            [Deplaned, Enplaned]\n",
       "South America          [Deplaned, Enplaned]\n",
       "US                     [Deplaned, Enplaned]\n",
       "Name: activity_type, dtype: object"
      ]
     },
     "execution_count": 78,
     "metadata": {},
     "output_type": "execute_result"
    }
   ],
   "source": [
    "dt_copy.groupby(['geo_region'])['activity_type'].unique()"
   ]
  },
  {
   "cell_type": "markdown",
   "metadata": {},
   "source": [
    ">> **Deplaned can be considered Export from US, Enplaned - import (supposedly, need more detailed data to determine whether routes always looped in USA**"
   ]
  },
  {
   "cell_type": "code",
   "execution_count": 79,
   "metadata": {},
   "outputs": [
    {
     "data": {
      "text/plain": [
       "geo_region\n",
       "Asia                   [International]\n",
       "Australia / Oceania    [International]\n",
       "Canada                 [International]\n",
       "Central America        [International]\n",
       "Europe                 [International]\n",
       "Mexico                 [International]\n",
       "Middle East            [International]\n",
       "South America          [International]\n",
       "US                          [Domestic]\n",
       "Name: geo_summary, dtype: object"
      ]
     },
     "execution_count": 79,
     "metadata": {},
     "output_type": "execute_result"
    }
   ],
   "source": [
    "dt_copy.groupby(['geo_region'])['geo_summary'].unique()"
   ]
  },
  {
   "cell_type": "markdown",
   "metadata": {},
   "source": [
    ">> **thus geo_summary can serve as the identificator for Import & Export shipments**"
   ]
  },
  {
   "cell_type": "markdown",
   "metadata": {},
   "source": [
    ">**the Count of flights to each geo_region located beyond USA**"
   ]
  },
  {
   "cell_type": "code",
   "execution_count": 82,
   "metadata": {},
   "outputs": [
    {
     "data": {
      "text/plain": [
       "geo_region\n",
       "Asia                   12610\n",
       "Australia / Oceania     2165\n",
       "Canada                  1833\n",
       "Central America          479\n",
       "Europe                  5824\n",
       "Mexico                  1110\n",
       "Middle East              692\n",
       "South America             95\n",
       "Name: cargo_metric_tons, dtype: int64"
      ]
     },
     "execution_count": 82,
     "metadata": {},
     "output_type": "execute_result"
    }
   ],
   "source": [
    "dt_copy[dt_copy['geo_summary']=='International'].groupby(['geo_region'])['cargo_metric_tons'].count()"
   ]
  },
  {
   "cell_type": "markdown",
   "metadata": {},
   "source": [
    ">**the Sum of cargo weight transported to+out geo_region, located beyond USA**"
   ]
  },
  {
   "cell_type": "code",
   "execution_count": 83,
   "metadata": {},
   "outputs": [
    {
     "data": {
      "text/plain": [
       "geo_region\n",
       "Asia                   3.167968e+06\n",
       "Australia / Oceania    1.895229e+05\n",
       "Canada                 2.513445e+04\n",
       "Central America        1.176297e+03\n",
       "Europe                 9.603265e+05\n",
       "Mexico                 1.040134e+04\n",
       "Middle East            5.320734e+04\n",
       "South America          1.217789e+04\n",
       "Name: cargo_metric_tons, dtype: float64"
      ]
     },
     "execution_count": 83,
     "metadata": {},
     "output_type": "execute_result"
    }
   ],
   "source": [
    "dt_copy[dt_copy['geo_summary']=='International'].groupby(['geo_region'])['cargo_metric_tons'].sum()"
   ]
  },
  {
   "cell_type": "markdown",
   "metadata": {},
   "source": [
    ">**the Mean weight of cargo transported to+out geo_region, located beyond USA**"
   ]
  },
  {
   "cell_type": "code",
   "execution_count": 84,
   "metadata": {},
   "outputs": [
    {
     "data": {
      "text/plain": [
       "geo_region\n",
       "Asia                   251.226684\n",
       "Australia / Oceania     87.539449\n",
       "Canada                  13.712192\n",
       "Central America          2.455735\n",
       "Europe                 164.891228\n",
       "Mexico                   9.370575\n",
       "Middle East             76.889227\n",
       "South America          128.188272\n",
       "Name: cargo_metric_tons, dtype: float64"
      ]
     },
     "execution_count": 84,
     "metadata": {},
     "output_type": "execute_result"
    }
   ],
   "source": [
    "dt_copy[dt_copy['geo_summary']=='International'].groupby(['geo_region'])['cargo_metric_tons'].mean()"
   ]
  },
  {
   "cell_type": "code",
   "execution_count": 85,
   "metadata": {},
   "outputs": [
    {
     "data": {
      "text/html": [
       "<div>\n",
       "<style scoped>\n",
       "    .dataframe tbody tr th:only-of-type {\n",
       "        vertical-align: middle;\n",
       "    }\n",
       "\n",
       "    .dataframe tbody tr th {\n",
       "        vertical-align: top;\n",
       "    }\n",
       "\n",
       "    .dataframe thead th {\n",
       "        text-align: right;\n",
       "    }\n",
       "</style>\n",
       "<table border=\"1\" class=\"dataframe\">\n",
       "  <thead>\n",
       "    <tr style=\"text-align: right;\">\n",
       "      <th>year</th>\n",
       "      <th>2005</th>\n",
       "      <th>2006</th>\n",
       "      <th>2007</th>\n",
       "      <th>2008</th>\n",
       "      <th>2009</th>\n",
       "      <th>2010</th>\n",
       "      <th>2011</th>\n",
       "      <th>2012</th>\n",
       "      <th>2013</th>\n",
       "      <th>2014</th>\n",
       "      <th>2015</th>\n",
       "      <th>2016</th>\n",
       "      <th>2017</th>\n",
       "      <th>2018</th>\n",
       "      <th>2019</th>\n",
       "      <th>2020</th>\n",
       "    </tr>\n",
       "    <tr>\n",
       "      <th>activity_type</th>\n",
       "      <th></th>\n",
       "      <th></th>\n",
       "      <th></th>\n",
       "      <th></th>\n",
       "      <th></th>\n",
       "      <th></th>\n",
       "      <th></th>\n",
       "      <th></th>\n",
       "      <th></th>\n",
       "      <th></th>\n",
       "      <th></th>\n",
       "      <th></th>\n",
       "      <th></th>\n",
       "      <th></th>\n",
       "      <th></th>\n",
       "      <th></th>\n",
       "    </tr>\n",
       "  </thead>\n",
       "  <tbody>\n",
       "    <tr>\n",
       "      <th>Deplaned</th>\n",
       "      <td>92130.057786</td>\n",
       "      <td>181627.349050</td>\n",
       "      <td>183289.180234</td>\n",
       "      <td>156029.446391</td>\n",
       "      <td>127074.959978</td>\n",
       "      <td>144120.053650</td>\n",
       "      <td>120873.044124</td>\n",
       "      <td>117340.58060</td>\n",
       "      <td>119700.072625</td>\n",
       "      <td>133833.979188</td>\n",
       "      <td>152913.154968</td>\n",
       "      <td>166474.631032</td>\n",
       "      <td>201769.517377</td>\n",
       "      <td>219156.708911</td>\n",
       "      <td>213857.890243</td>\n",
       "      <td>138768.431862</td>\n",
       "    </tr>\n",
       "    <tr>\n",
       "      <th>Enplaned</th>\n",
       "      <td>62506.586672</td>\n",
       "      <td>136854.289303</td>\n",
       "      <td>138977.865786</td>\n",
       "      <td>130910.152967</td>\n",
       "      <td>115172.811686</td>\n",
       "      <td>133186.109111</td>\n",
       "      <td>122189.125967</td>\n",
       "      <td>109571.76841</td>\n",
       "      <td>107331.725136</td>\n",
       "      <td>114881.085194</td>\n",
       "      <td>121164.789212</td>\n",
       "      <td>124573.590944</td>\n",
       "      <td>141806.627423</td>\n",
       "      <td>145588.886652</td>\n",
       "      <td>141928.710237</td>\n",
       "      <td>104312.037362</td>\n",
       "    </tr>\n",
       "  </tbody>\n",
       "</table>\n",
       "</div>"
      ],
      "text/plain": [
       "year                   2005           2006           2007           2008  \\\n",
       "activity_type                                                              \n",
       "Deplaned       92130.057786  181627.349050  183289.180234  156029.446391   \n",
       "Enplaned       62506.586672  136854.289303  138977.865786  130910.152967   \n",
       "\n",
       "year                    2009           2010           2011          2012  \\\n",
       "activity_type                                                              \n",
       "Deplaned       127074.959978  144120.053650  120873.044124  117340.58060   \n",
       "Enplaned       115172.811686  133186.109111  122189.125967  109571.76841   \n",
       "\n",
       "year                    2013           2014           2015           2016  \\\n",
       "activity_type                                                               \n",
       "Deplaned       119700.072625  133833.979188  152913.154968  166474.631032   \n",
       "Enplaned       107331.725136  114881.085194  121164.789212  124573.590944   \n",
       "\n",
       "year                    2017           2018           2019           2020  \n",
       "activity_type                                                              \n",
       "Deplaned       201769.517377  219156.708911  213857.890243  138768.431862  \n",
       "Enplaned       141806.627423  145588.886652  141928.710237  104312.037362  "
      ]
     },
     "execution_count": 85,
     "metadata": {},
     "output_type": "execute_result"
    }
   ],
   "source": [
    "ImpExp = pd.pivot_table(dt_copy[dt_copy['geo_summary']=='International'], values='cargo_metric_tons', index=['activity_type'], columns=['year'], aggfunc=np.sum)\n",
    "ImpExp.fillna(0)"
   ]
  },
  {
   "cell_type": "code",
   "execution_count": 86,
   "metadata": {},
   "outputs": [
    {
     "data": {
      "text/plain": [
       "activity_type\n",
       "Deplaned    2.468959e+06\n",
       "Enplaned    1.950956e+06\n",
       "Name: cargo_metric_tons, dtype: float64"
      ]
     },
     "execution_count": 86,
     "metadata": {},
     "output_type": "execute_result"
    }
   ],
   "source": [
    "dt_copy[dt_copy['geo_summary']=='International'].groupby(['activity_type'])['cargo_metric_tons'].sum()"
   ]
  },
  {
   "cell_type": "code",
   "execution_count": 87,
   "metadata": {},
   "outputs": [
    {
     "data": {
      "text/plain": [
       "activity_type\n",
       "Deplaned    213857.890243\n",
       "Enplaned    141928.710237\n",
       "Name: cargo_metric_tons, dtype: float64"
      ]
     },
     "execution_count": 87,
     "metadata": {},
     "output_type": "execute_result"
    }
   ],
   "source": [
    "dt_copy[(dt_copy['geo_summary']=='International')&(dt_copy['year']==2019)].groupby(['activity_type'])['cargo_metric_tons'].sum()"
   ]
  },
  {
   "cell_type": "code",
   "execution_count": 88,
   "metadata": {},
   "outputs": [
    {
     "data": {
      "text/plain": [
       "activity_type\n",
       "Deplaned    138768.431862\n",
       "Enplaned    104312.037362\n",
       "Name: cargo_metric_tons, dtype: float64"
      ]
     },
     "execution_count": 88,
     "metadata": {},
     "output_type": "execute_result"
    }
   ],
   "source": [
    "dt_copy[(dt_copy['geo_summary']=='International')&(dt_copy['year']==2020)].groupby(['activity_type'])['cargo_metric_tons'].sum()"
   ]
  },
  {
   "cell_type": "code",
   "execution_count": 89,
   "metadata": {},
   "outputs": [],
   "source": [
    "dt_Exp=dt_copy.loc[(dt_copy['activity_type']=='Deplaned')&(dt_copy['geo_summary']=='International')]"
   ]
  },
  {
   "cell_type": "code",
   "execution_count": 90,
   "metadata": {},
   "outputs": [
    {
     "data": {
      "text/html": [
       "<div>\n",
       "<style scoped>\n",
       "    .dataframe tbody tr th:only-of-type {\n",
       "        vertical-align: middle;\n",
       "    }\n",
       "\n",
       "    .dataframe tbody tr th {\n",
       "        vertical-align: top;\n",
       "    }\n",
       "\n",
       "    .dataframe thead th {\n",
       "        text-align: right;\n",
       "    }\n",
       "</style>\n",
       "<table border=\"1\" class=\"dataframe\">\n",
       "  <thead>\n",
       "    <tr style=\"text-align: right;\">\n",
       "      <th></th>\n",
       "      <th>activity_period</th>\n",
       "      <th>operating_airline</th>\n",
       "      <th>operating_airline_iata</th>\n",
       "      <th>published_airline</th>\n",
       "      <th>published_airline_iata</th>\n",
       "      <th>geo_summary</th>\n",
       "      <th>geo_region</th>\n",
       "      <th>activity_type</th>\n",
       "      <th>cargo_type</th>\n",
       "      <th>cargo_aircraft_type</th>\n",
       "      <th>cargo_weight_lbs</th>\n",
       "      <th>cargo_metric_tons</th>\n",
       "      <th>date</th>\n",
       "      <th>starred_iata</th>\n",
       "      <th>year</th>\n",
       "    </tr>\n",
       "  </thead>\n",
       "  <tbody>\n",
       "    <tr>\n",
       "      <th>6</th>\n",
       "      <td>200507</td>\n",
       "      <td>Air Canada</td>\n",
       "      <td>AC</td>\n",
       "      <td>Air Canada</td>\n",
       "      <td>AC</td>\n",
       "      <td>International</td>\n",
       "      <td>Canada</td>\n",
       "      <td>Deplaned</td>\n",
       "      <td>Cargo</td>\n",
       "      <td>Passenger</td>\n",
       "      <td>47025</td>\n",
       "      <td>21.330540</td>\n",
       "      <td>2005-07-01</td>\n",
       "      <td>N</td>\n",
       "      <td>2005</td>\n",
       "    </tr>\n",
       "    <tr>\n",
       "      <th>7</th>\n",
       "      <td>200507</td>\n",
       "      <td>Air Canada</td>\n",
       "      <td>AC</td>\n",
       "      <td>Air Canada</td>\n",
       "      <td>AC</td>\n",
       "      <td>International</td>\n",
       "      <td>Canada</td>\n",
       "      <td>Deplaned</td>\n",
       "      <td>Express</td>\n",
       "      <td>Passenger</td>\n",
       "      <td>7234</td>\n",
       "      <td>3.281342</td>\n",
       "      <td>2005-07-01</td>\n",
       "      <td>N</td>\n",
       "      <td>2005</td>\n",
       "    </tr>\n",
       "  </tbody>\n",
       "</table>\n",
       "</div>"
      ],
      "text/plain": [
       "   activity_period operating_airline operating_airline_iata published_airline  \\\n",
       "6           200507        Air Canada                     AC        Air Canada   \n",
       "7           200507        Air Canada                     AC        Air Canada   \n",
       "\n",
       "  published_airline_iata    geo_summary geo_region activity_type cargo_type  \\\n",
       "6                     AC  International     Canada      Deplaned      Cargo   \n",
       "7                     AC  International     Canada      Deplaned    Express   \n",
       "\n",
       "  cargo_aircraft_type  cargo_weight_lbs  cargo_metric_tons       date  \\\n",
       "6           Passenger             47025          21.330540 2005-07-01   \n",
       "7           Passenger              7234           3.281342 2005-07-01   \n",
       "\n",
       "  starred_iata  year  \n",
       "6            N  2005  \n",
       "7            N  2005  "
      ]
     },
     "execution_count": 90,
     "metadata": {},
     "output_type": "execute_result"
    }
   ],
   "source": [
    "dt_Exp.head(2)"
   ]
  },
  {
   "cell_type": "code",
   "execution_count": 91,
   "metadata": {},
   "outputs": [
    {
     "data": {
      "text/html": [
       "<div>\n",
       "<style scoped>\n",
       "    .dataframe tbody tr th:only-of-type {\n",
       "        vertical-align: middle;\n",
       "    }\n",
       "\n",
       "    .dataframe tbody tr th {\n",
       "        vertical-align: top;\n",
       "    }\n",
       "\n",
       "    .dataframe thead th {\n",
       "        text-align: right;\n",
       "    }\n",
       "</style>\n",
       "<table border=\"1\" class=\"dataframe\">\n",
       "  <thead>\n",
       "    <tr style=\"text-align: right;\">\n",
       "      <th>geo_region</th>\n",
       "      <th>Asia</th>\n",
       "      <th>Australia / Oceania</th>\n",
       "      <th>Canada</th>\n",
       "      <th>Central America</th>\n",
       "      <th>Europe</th>\n",
       "      <th>Mexico</th>\n",
       "      <th>Middle East</th>\n",
       "      <th>South America</th>\n",
       "    </tr>\n",
       "    <tr>\n",
       "      <th>year</th>\n",
       "      <th></th>\n",
       "      <th></th>\n",
       "      <th></th>\n",
       "      <th></th>\n",
       "      <th></th>\n",
       "      <th></th>\n",
       "      <th></th>\n",
       "      <th></th>\n",
       "    </tr>\n",
       "  </thead>\n",
       "  <tbody>\n",
       "    <tr>\n",
       "      <th>2005</th>\n",
       "      <td>71851.613956</td>\n",
       "      <td>2821.955825</td>\n",
       "      <td>398.407313</td>\n",
       "      <td>43.295666</td>\n",
       "      <td>16765.385767</td>\n",
       "      <td>249.399259</td>\n",
       "      <td>0.000000</td>\n",
       "      <td>0.000000</td>\n",
       "    </tr>\n",
       "    <tr>\n",
       "      <th>2006</th>\n",
       "      <td>141104.557140</td>\n",
       "      <td>6963.503450</td>\n",
       "      <td>666.578354</td>\n",
       "      <td>36.403668</td>\n",
       "      <td>32351.972184</td>\n",
       "      <td>504.334253</td>\n",
       "      <td>0.000000</td>\n",
       "      <td>0.000000</td>\n",
       "    </tr>\n",
       "    <tr>\n",
       "      <th>2007</th>\n",
       "      <td>143511.640424</td>\n",
       "      <td>7429.894063</td>\n",
       "      <td>551.128536</td>\n",
       "      <td>33.760994</td>\n",
       "      <td>31252.201294</td>\n",
       "      <td>510.554923</td>\n",
       "      <td>0.000000</td>\n",
       "      <td>0.000000</td>\n",
       "    </tr>\n",
       "    <tr>\n",
       "      <th>2008</th>\n",
       "      <td>122931.846980</td>\n",
       "      <td>6928.757237</td>\n",
       "      <td>384.442330</td>\n",
       "      <td>10.741702</td>\n",
       "      <td>25301.568953</td>\n",
       "      <td>458.726134</td>\n",
       "      <td>13.363056</td>\n",
       "      <td>0.000000</td>\n",
       "    </tr>\n",
       "    <tr>\n",
       "      <th>2009</th>\n",
       "      <td>99349.805771</td>\n",
       "      <td>5533.320794</td>\n",
       "      <td>212.376427</td>\n",
       "      <td>3.921372</td>\n",
       "      <td>19959.725873</td>\n",
       "      <td>734.569366</td>\n",
       "      <td>1281.240374</td>\n",
       "      <td>0.000000</td>\n",
       "    </tr>\n",
       "    <tr>\n",
       "      <th>2010</th>\n",
       "      <td>112394.081671</td>\n",
       "      <td>6376.297838</td>\n",
       "      <td>270.546998</td>\n",
       "      <td>6.412543</td>\n",
       "      <td>22922.899171</td>\n",
       "      <td>683.870494</td>\n",
       "      <td>515.178922</td>\n",
       "      <td>950.766012</td>\n",
       "    </tr>\n",
       "    <tr>\n",
       "      <th>2011</th>\n",
       "      <td>92297.728757</td>\n",
       "      <td>4751.044049</td>\n",
       "      <td>117.895176</td>\n",
       "      <td>7.276651</td>\n",
       "      <td>21225.304800</td>\n",
       "      <td>489.270650</td>\n",
       "      <td>252.838001</td>\n",
       "      <td>1731.686040</td>\n",
       "    </tr>\n",
       "    <tr>\n",
       "      <th>2012</th>\n",
       "      <td>89270.003190</td>\n",
       "      <td>4135.834534</td>\n",
       "      <td>197.203961</td>\n",
       "      <td>42.746357</td>\n",
       "      <td>21398.513774</td>\n",
       "      <td>407.457540</td>\n",
       "      <td>294.103354</td>\n",
       "      <td>1594.717891</td>\n",
       "    </tr>\n",
       "    <tr>\n",
       "      <th>2013</th>\n",
       "      <td>89589.892341</td>\n",
       "      <td>3367.109088</td>\n",
       "      <td>177.775819</td>\n",
       "      <td>59.741842</td>\n",
       "      <td>24248.680344</td>\n",
       "      <td>439.049419</td>\n",
       "      <td>240.824405</td>\n",
       "      <td>1576.999368</td>\n",
       "    </tr>\n",
       "    <tr>\n",
       "      <th>2014</th>\n",
       "      <td>98762.384247</td>\n",
       "      <td>4434.766006</td>\n",
       "      <td>149.832698</td>\n",
       "      <td>71.841622</td>\n",
       "      <td>29038.241837</td>\n",
       "      <td>368.585834</td>\n",
       "      <td>661.606445</td>\n",
       "      <td>346.720500</td>\n",
       "    </tr>\n",
       "    <tr>\n",
       "      <th>2015</th>\n",
       "      <td>110676.400531</td>\n",
       "      <td>4718.598948</td>\n",
       "      <td>682.099639</td>\n",
       "      <td>64.947809</td>\n",
       "      <td>34262.612950</td>\n",
       "      <td>386.485798</td>\n",
       "      <td>2122.009294</td>\n",
       "      <td>0.000000</td>\n",
       "    </tr>\n",
       "    <tr>\n",
       "      <th>2016</th>\n",
       "      <td>117338.136151</td>\n",
       "      <td>5984.076722</td>\n",
       "      <td>862.310383</td>\n",
       "      <td>62.712014</td>\n",
       "      <td>39100.696942</td>\n",
       "      <td>311.698951</td>\n",
       "      <td>2814.999869</td>\n",
       "      <td>0.000000</td>\n",
       "    </tr>\n",
       "    <tr>\n",
       "      <th>2017</th>\n",
       "      <td>138199.968094</td>\n",
       "      <td>8590.331232</td>\n",
       "      <td>1019.721377</td>\n",
       "      <td>53.596015</td>\n",
       "      <td>49718.045009</td>\n",
       "      <td>283.138934</td>\n",
       "      <td>3827.895473</td>\n",
       "      <td>76.821242</td>\n",
       "    </tr>\n",
       "    <tr>\n",
       "      <th>2018</th>\n",
       "      <td>152514.607041</td>\n",
       "      <td>8792.210902</td>\n",
       "      <td>1386.324526</td>\n",
       "      <td>75.966206</td>\n",
       "      <td>51243.125321</td>\n",
       "      <td>451.444039</td>\n",
       "      <td>4693.030877</td>\n",
       "      <td>0.000000</td>\n",
       "    </tr>\n",
       "    <tr>\n",
       "      <th>2019</th>\n",
       "      <td>147938.348224</td>\n",
       "      <td>9887.797332</td>\n",
       "      <td>1007.114472</td>\n",
       "      <td>154.710713</td>\n",
       "      <td>50561.835811</td>\n",
       "      <td>142.514770</td>\n",
       "      <td>4165.568921</td>\n",
       "      <td>0.000000</td>\n",
       "    </tr>\n",
       "    <tr>\n",
       "      <th>2020</th>\n",
       "      <td>92590.590154</td>\n",
       "      <td>14574.541313</td>\n",
       "      <td>319.511758</td>\n",
       "      <td>52.187134</td>\n",
       "      <td>28934.044928</td>\n",
       "      <td>175.752310</td>\n",
       "      <td>2121.804266</td>\n",
       "      <td>0.000000</td>\n",
       "    </tr>\n",
       "  </tbody>\n",
       "</table>\n",
       "</div>"
      ],
      "text/plain": [
       "geo_region           Asia  Australia / Oceania       Canada  Central America  \\\n",
       "year                                                                           \n",
       "2005         71851.613956          2821.955825   398.407313        43.295666   \n",
       "2006        141104.557140          6963.503450   666.578354        36.403668   \n",
       "2007        143511.640424          7429.894063   551.128536        33.760994   \n",
       "2008        122931.846980          6928.757237   384.442330        10.741702   \n",
       "2009         99349.805771          5533.320794   212.376427         3.921372   \n",
       "2010        112394.081671          6376.297838   270.546998         6.412543   \n",
       "2011         92297.728757          4751.044049   117.895176         7.276651   \n",
       "2012         89270.003190          4135.834534   197.203961        42.746357   \n",
       "2013         89589.892341          3367.109088   177.775819        59.741842   \n",
       "2014         98762.384247          4434.766006   149.832698        71.841622   \n",
       "2015        110676.400531          4718.598948   682.099639        64.947809   \n",
       "2016        117338.136151          5984.076722   862.310383        62.712014   \n",
       "2017        138199.968094          8590.331232  1019.721377        53.596015   \n",
       "2018        152514.607041          8792.210902  1386.324526        75.966206   \n",
       "2019        147938.348224          9887.797332  1007.114472       154.710713   \n",
       "2020         92590.590154         14574.541313   319.511758        52.187134   \n",
       "\n",
       "geo_region        Europe      Mexico  Middle East  South America  \n",
       "year                                                              \n",
       "2005        16765.385767  249.399259     0.000000       0.000000  \n",
       "2006        32351.972184  504.334253     0.000000       0.000000  \n",
       "2007        31252.201294  510.554923     0.000000       0.000000  \n",
       "2008        25301.568953  458.726134    13.363056       0.000000  \n",
       "2009        19959.725873  734.569366  1281.240374       0.000000  \n",
       "2010        22922.899171  683.870494   515.178922     950.766012  \n",
       "2011        21225.304800  489.270650   252.838001    1731.686040  \n",
       "2012        21398.513774  407.457540   294.103354    1594.717891  \n",
       "2013        24248.680344  439.049419   240.824405    1576.999368  \n",
       "2014        29038.241837  368.585834   661.606445     346.720500  \n",
       "2015        34262.612950  386.485798  2122.009294       0.000000  \n",
       "2016        39100.696942  311.698951  2814.999869       0.000000  \n",
       "2017        49718.045009  283.138934  3827.895473      76.821242  \n",
       "2018        51243.125321  451.444039  4693.030877       0.000000  \n",
       "2019        50561.835811  142.514770  4165.568921       0.000000  \n",
       "2020        28934.044928  175.752310  2121.804266       0.000000  "
      ]
     },
     "execution_count": 91,
     "metadata": {},
     "output_type": "execute_result"
    }
   ],
   "source": [
    "Exp = pd.pivot_table(dt_Exp, values='cargo_metric_tons', index=['year'], columns=['geo_region'], aggfunc=np.sum)\n",
    "Exp.fillna(0)"
   ]
  },
  {
   "cell_type": "code",
   "execution_count": 92,
   "metadata": {},
   "outputs": [
    {
     "data": {
      "image/png": "[encoded data removed]",
      "text/plain": [
       "<Figure size 1152x360 with 2 Axes>"
      ]
     },
     "metadata": {
      "needs_background": "light"
     },
     "output_type": "display_data"
    }
   ],
   "source": [
    "plt.figure(figsize=(16,5))\n",
    "sns.heatmap(Exp, annot=True, \n",
    "                fmt='g', cmap='PuBu') \n",
    "plt.show()"
   ]
  },
  {
   "cell_type": "code",
   "execution_count": 93,
   "metadata": {},
   "outputs": [],
   "source": [
    "dt_Imp=dt_copy.loc[(dt_copy['activity_type']=='Enplaned')&(dt_copy['geo_summary']=='International')]"
   ]
  },
  {
   "cell_type": "code",
   "execution_count": 94,
   "metadata": {},
   "outputs": [
    {
     "data": {
      "text/html": [
       "<div>\n",
       "<style scoped>\n",
       "    .dataframe tbody tr th:only-of-type {\n",
       "        vertical-align: middle;\n",
       "    }\n",
       "\n",
       "    .dataframe tbody tr th {\n",
       "        vertical-align: top;\n",
       "    }\n",
       "\n",
       "    .dataframe thead th {\n",
       "        text-align: right;\n",
       "    }\n",
       "</style>\n",
       "<table border=\"1\" class=\"dataframe\">\n",
       "  <thead>\n",
       "    <tr style=\"text-align: right;\">\n",
       "      <th>geo_region</th>\n",
       "      <th>Asia</th>\n",
       "      <th>Australia / Oceania</th>\n",
       "      <th>Canada</th>\n",
       "      <th>Central America</th>\n",
       "      <th>Europe</th>\n",
       "      <th>Mexico</th>\n",
       "      <th>Middle East</th>\n",
       "      <th>South America</th>\n",
       "    </tr>\n",
       "    <tr>\n",
       "      <th>year</th>\n",
       "      <th></th>\n",
       "      <th></th>\n",
       "      <th></th>\n",
       "      <th></th>\n",
       "      <th></th>\n",
       "      <th></th>\n",
       "      <th></th>\n",
       "      <th></th>\n",
       "    </tr>\n",
       "  </thead>\n",
       "  <tbody>\n",
       "    <tr>\n",
       "      <th>2005</th>\n",
       "      <td>43066.152965</td>\n",
       "      <td>1341.930240</td>\n",
       "      <td>815.847228</td>\n",
       "      <td>7.044408</td>\n",
       "      <td>17138.167855</td>\n",
       "      <td>137.443975</td>\n",
       "      <td>0.000000</td>\n",
       "      <td>0.000000</td>\n",
       "    </tr>\n",
       "    <tr>\n",
       "      <th>2006</th>\n",
       "      <td>95518.467475</td>\n",
       "      <td>4380.552187</td>\n",
       "      <td>2082.942086</td>\n",
       "      <td>10.655064</td>\n",
       "      <td>34574.181718</td>\n",
       "      <td>287.490773</td>\n",
       "      <td>0.000000</td>\n",
       "      <td>0.000000</td>\n",
       "    </tr>\n",
       "    <tr>\n",
       "      <th>2007</th>\n",
       "      <td>94187.827340</td>\n",
       "      <td>6045.980422</td>\n",
       "      <td>1975.918795</td>\n",
       "      <td>25.358508</td>\n",
       "      <td>36562.040626</td>\n",
       "      <td>180.740095</td>\n",
       "      <td>0.000000</td>\n",
       "      <td>0.000000</td>\n",
       "    </tr>\n",
       "    <tr>\n",
       "      <th>2008</th>\n",
       "      <td>88268.564613</td>\n",
       "      <td>6157.537445</td>\n",
       "      <td>1420.146756</td>\n",
       "      <td>31.835462</td>\n",
       "      <td>34830.703858</td>\n",
       "      <td>151.942392</td>\n",
       "      <td>49.422442</td>\n",
       "      <td>0.000000</td>\n",
       "    </tr>\n",
       "    <tr>\n",
       "      <th>2009</th>\n",
       "      <td>81662.671694</td>\n",
       "      <td>4324.606524</td>\n",
       "      <td>721.645394</td>\n",
       "      <td>10.564798</td>\n",
       "      <td>26089.553347</td>\n",
       "      <td>143.304034</td>\n",
       "      <td>2220.465895</td>\n",
       "      <td>0.000000</td>\n",
       "    </tr>\n",
       "    <tr>\n",
       "      <th>2010</th>\n",
       "      <td>94450.036715</td>\n",
       "      <td>4863.409387</td>\n",
       "      <td>774.461671</td>\n",
       "      <td>10.556179</td>\n",
       "      <td>29784.071823</td>\n",
       "      <td>151.284218</td>\n",
       "      <td>2129.428829</td>\n",
       "      <td>1022.860289</td>\n",
       "    </tr>\n",
       "    <tr>\n",
       "      <th>2011</th>\n",
       "      <td>85172.987288</td>\n",
       "      <td>3674.922502</td>\n",
       "      <td>636.865286</td>\n",
       "      <td>14.618621</td>\n",
       "      <td>29195.727221</td>\n",
       "      <td>324.190642</td>\n",
       "      <td>1665.897710</td>\n",
       "      <td>1503.916697</td>\n",
       "    </tr>\n",
       "    <tr>\n",
       "      <th>2012</th>\n",
       "      <td>75406.204995</td>\n",
       "      <td>3369.799390</td>\n",
       "      <td>556.035127</td>\n",
       "      <td>20.571667</td>\n",
       "      <td>27098.014558</td>\n",
       "      <td>247.837514</td>\n",
       "      <td>1378.717200</td>\n",
       "      <td>1494.587959</td>\n",
       "    </tr>\n",
       "    <tr>\n",
       "      <th>2013</th>\n",
       "      <td>74331.484616</td>\n",
       "      <td>3396.251074</td>\n",
       "      <td>453.671669</td>\n",
       "      <td>27.278597</td>\n",
       "      <td>26334.856598</td>\n",
       "      <td>133.448666</td>\n",
       "      <td>1232.637134</td>\n",
       "      <td>1422.096782</td>\n",
       "    </tr>\n",
       "    <tr>\n",
       "      <th>2014</th>\n",
       "      <td>80542.640757</td>\n",
       "      <td>4712.569243</td>\n",
       "      <td>508.583578</td>\n",
       "      <td>36.479419</td>\n",
       "      <td>27800.285335</td>\n",
       "      <td>184.235537</td>\n",
       "      <td>798.436699</td>\n",
       "      <td>297.854626</td>\n",
       "    </tr>\n",
       "    <tr>\n",
       "      <th>2015</th>\n",
       "      <td>85781.923971</td>\n",
       "      <td>4329.214193</td>\n",
       "      <td>847.486282</td>\n",
       "      <td>38.446682</td>\n",
       "      <td>27068.628989</td>\n",
       "      <td>411.684638</td>\n",
       "      <td>2687.404457</td>\n",
       "      <td>0.000000</td>\n",
       "    </tr>\n",
       "    <tr>\n",
       "      <th>2016</th>\n",
       "      <td>83905.042385</td>\n",
       "      <td>5443.141939</td>\n",
       "      <td>765.019080</td>\n",
       "      <td>37.743602</td>\n",
       "      <td>30616.543944</td>\n",
       "      <td>278.522194</td>\n",
       "      <td>3527.577799</td>\n",
       "      <td>0.000000</td>\n",
       "    </tr>\n",
       "    <tr>\n",
       "      <th>2017</th>\n",
       "      <td>99608.213980</td>\n",
       "      <td>6314.428613</td>\n",
       "      <td>1035.360598</td>\n",
       "      <td>26.660794</td>\n",
       "      <td>30454.522106</td>\n",
       "      <td>299.385526</td>\n",
       "      <td>3909.197376</td>\n",
       "      <td>158.858431</td>\n",
       "    </tr>\n",
       "    <tr>\n",
       "      <th>2018</th>\n",
       "      <td>97415.076123</td>\n",
       "      <td>6845.176447</td>\n",
       "      <td>1480.867013</td>\n",
       "      <td>45.658015</td>\n",
       "      <td>34815.703305</td>\n",
       "      <td>371.863094</td>\n",
       "      <td>4614.542654</td>\n",
       "      <td>0.000000</td>\n",
       "    </tr>\n",
       "    <tr>\n",
       "      <th>2019</th>\n",
       "      <td>96033.917198</td>\n",
       "      <td>8305.712201</td>\n",
       "      <td>2117.332224</td>\n",
       "      <td>41.166922</td>\n",
       "      <td>30982.525661</td>\n",
       "      <td>384.475896</td>\n",
       "      <td>4063.580136</td>\n",
       "      <td>0.000000</td>\n",
       "    </tr>\n",
       "    <tr>\n",
       "      <th>2020</th>\n",
       "      <td>72295.670210</td>\n",
       "      <td>10727.635464</td>\n",
       "      <td>538.994736</td>\n",
       "      <td>11.395793</td>\n",
       "      <td>18696.131899</td>\n",
       "      <td>116.635982</td>\n",
       "      <td>1925.573278</td>\n",
       "      <td>0.000000</td>\n",
       "    </tr>\n",
       "  </tbody>\n",
       "</table>\n",
       "</div>"
      ],
      "text/plain": [
       "geo_region          Asia  Australia / Oceania       Canada  Central America  \\\n",
       "year                                                                          \n",
       "2005        43066.152965          1341.930240   815.847228         7.044408   \n",
       "2006        95518.467475          4380.552187  2082.942086        10.655064   \n",
       "2007        94187.827340          6045.980422  1975.918795        25.358508   \n",
       "2008        88268.564613          6157.537445  1420.146756        31.835462   \n",
       "2009        81662.671694          4324.606524   721.645394        10.564798   \n",
       "2010        94450.036715          4863.409387   774.461671        10.556179   \n",
       "2011        85172.987288          3674.922502   636.865286        14.618621   \n",
       "2012        75406.204995          3369.799390   556.035127        20.571667   \n",
       "2013        74331.484616          3396.251074   453.671669        27.278597   \n",
       "2014        80542.640757          4712.569243   508.583578        36.479419   \n",
       "2015        85781.923971          4329.214193   847.486282        38.446682   \n",
       "2016        83905.042385          5443.141939   765.019080        37.743602   \n",
       "2017        99608.213980          6314.428613  1035.360598        26.660794   \n",
       "2018        97415.076123          6845.176447  1480.867013        45.658015   \n",
       "2019        96033.917198          8305.712201  2117.332224        41.166922   \n",
       "2020        72295.670210         10727.635464   538.994736        11.395793   \n",
       "\n",
       "geo_region        Europe      Mexico  Middle East  South America  \n",
       "year                                                              \n",
       "2005        17138.167855  137.443975     0.000000       0.000000  \n",
       "2006        34574.181718  287.490773     0.000000       0.000000  \n",
       "2007        36562.040626  180.740095     0.000000       0.000000  \n",
       "2008        34830.703858  151.942392    49.422442       0.000000  \n",
       "2009        26089.553347  143.304034  2220.465895       0.000000  \n",
       "2010        29784.071823  151.284218  2129.428829    1022.860289  \n",
       "2011        29195.727221  324.190642  1665.897710    1503.916697  \n",
       "2012        27098.014558  247.837514  1378.717200    1494.587959  \n",
       "2013        26334.856598  133.448666  1232.637134    1422.096782  \n",
       "2014        27800.285335  184.235537   798.436699     297.854626  \n",
       "2015        27068.628989  411.684638  2687.404457       0.000000  \n",
       "2016        30616.543944  278.522194  3527.577799       0.000000  \n",
       "2017        30454.522106  299.385526  3909.197376     158.858431  \n",
       "2018        34815.703305  371.863094  4614.542654       0.000000  \n",
       "2019        30982.525661  384.475896  4063.580136       0.000000  \n",
       "2020        18696.131899  116.635982  1925.573278       0.000000  "
      ]
     },
     "execution_count": 94,
     "metadata": {},
     "output_type": "execute_result"
    }
   ],
   "source": [
    "Imp = pd.pivot_table(dt_Imp, values='cargo_metric_tons', index=['year'], columns=['geo_region'], aggfunc=np.sum)\n",
    "Imp.fillna(0)"
   ]
  },
  {
   "cell_type": "code",
   "execution_count": 95,
   "metadata": {},
   "outputs": [
    {
     "data": {
      "image/png": "[encoded data removed]",
      "text/plain": [
       "<Figure size 1152x360 with 2 Axes>"
      ]
     },
     "metadata": {
      "needs_background": "light"
     },
     "output_type": "display_data"
    }
   ],
   "source": [
    "plt.figure(figsize=(16,5))\n",
    "sns.heatmap(Imp, annot=True, \n",
    "                fmt='g', cmap='Wistia') \n",
    "plt.show()"
   ]
  },
  {
   "cell_type": "markdown",
   "metadata": {},
   "source": [
    "### **Summary**<a id=\"Sumup\"></a>\n",
    "##### [back to Content](#content)"
   ]
  },
  {
   "cell_type": "markdown",
   "metadata": {},
   "source": [
    "1) Seasonality isn't prominent or absents at all\n",
    "<br>2) Decline in international cargo transportation can be caused by the consequences of the Covid pandemic. Similar tendencies can be seen in 2013-2014 - at the beginning of the previous world crises. Covid also negatively impacted the quantity of International flights.\n",
    "<br>3) Cargo transportation (in metric tons)  increased for Cargo craft types and decreased for Freighters \n",
    "<br>4) Cargo air deliveries in the USA are mostly focused on inner territory according to mean cargo weights per flight. Probably due to international transportation rates. International transportation decreased while Domestic remained the same if to compare data of 2019 and 2020. The same situation with the flight quantity.\n",
    "<br>5) Qty of airlines remained almost the same starting from 2017.\n",
    "<br>6) Cargo types 2019 vs 2020 Domestic flights: Express deliveries increased in cargo weights, Mail remained the same level as it was in 2019, as well as Cargo (heavy cargo).\n",
    "<br>7) Cargo types 2019 vs 2020 International flights: critical drop in cargo weights of all cargo types.\n",
    "<br>8) Export & Import: Export from USA exceeds Import. Export/Import showed dramatical drop in 2020 compared to 2019. It should be noted that the amount of Exp&Imp during three previous to 2020 years (2017-2018-2019) remained on the same level (in regard to cargo weights). \n",
    "<br>9) The major amount of international cargo transportation (in metric tons) attributed to routes to/out Asia, Europe and South America; the major amount of international cargo transportation (in flights count) attributed to routes to/out Asia, Europe and Australia/Oceania.\n"
   ]
  }
 ],
 "metadata": {
  "kernelspec": {
   "display_name": "Python 3",
   "language": "python",
   "name": "python3"
  },
  "language_info": {
   "codemirror_mode": {
    "name": "ipython",
    "version": 3
   },
   "file_extension": ".py",
   "mimetype": "text/x-python",
   "name": "python",
   "nbconvert_exporter": "python",
   "pygments_lexer": "ipython3",
   "version": "3.8.5"
  }
 },
 "nbformat": 4,
 "nbformat_minor": 4
}
